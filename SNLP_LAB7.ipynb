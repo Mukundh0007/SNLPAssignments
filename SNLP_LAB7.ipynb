{
  "cells": [
    {
      "cell_type": "markdown",
      "metadata": {
        "id": "hjNTbtmB6p_M"
      },
      "source": [
        "*09 Sep 2024 : 21BAI1133 - Mukundh J*\n",
        "#  Speech and Natural Language Processing Lab 7\n",
        "Task:\n",
        "- Implement text classification using RNN.\n",
        "- Use the same dataset as your previous exercise (using CNN).\n",
        "- Train at least three models by  \n",
        "  - changing the number of recurrent units,\n",
        "  - using one of RNN/GRU/LSTM in the model.\n",
        "- Print model summaries for each model.\n",
        "- Evaluate and compare the three models in a table using precision, recall, and F1-measure.\n",
        "- Compare with the results obtained using CNN.\n",
        "  - Display a table with all six experimental setups and results, in some succinct and intuitive way.\n",
        "- Comment on the scores. Why do you think one system has better scores than the other.\n",
        "\n",
        "Code:\n",
        "- Segment your code into multiple cells, based on functionality.\n",
        "- Comment on your code, based on your understanding.\n",
        "- Display useful information through print statements, so your notebook is readable."
      ]
    },
    {
      "cell_type": "code",
      "source": [
        "!git clone https://github.com/dkv204p/SPAM-HAM-Classification-using-NLP.git"
      ],
      "metadata": {
        "colab": {
          "base_uri": "https://localhost:8080/"
        },
        "id": "lvtSVWbOAF_J",
        "outputId": "8e21d126-9695-41e3-c9c0-1d13c312f529"
      },
      "execution_count": 1,
      "outputs": [
        {
          "output_type": "stream",
          "name": "stdout",
          "text": [
            "Cloning into 'SPAM-HAM-Classification-using-NLP'...\n",
            "remote: Enumerating objects: 12, done.\u001b[K\n",
            "remote: Counting objects: 100% (12/12), done.\u001b[K\n",
            "remote: Compressing objects: 100% (10/10), done.\u001b[K\n",
            "remote: Total 12 (delta 1), reused 8 (delta 1), pack-reused 0 (from 0)\u001b[K\n",
            "Receiving objects: 100% (12/12), 211.95 KiB | 11.15 MiB/s, done.\n",
            "Resolving deltas: 100% (1/1), done.\n"
          ]
        }
      ]
    },
    {
      "cell_type": "code",
      "source": [
        "import pandas as pd"
      ],
      "metadata": {
        "id": "-SAct1_cAuwy"
      },
      "execution_count": 2,
      "outputs": []
    },
    {
      "cell_type": "code",
      "source": [
        "data = pd.read_csv('/content/SPAM-HAM-Classification-using-NLP/spam.csv')"
      ],
      "metadata": {
        "id": "qQsG_fAlAo13"
      },
      "execution_count": 3,
      "outputs": []
    },
    {
      "cell_type": "code",
      "source": [
        "data"
      ],
      "metadata": {
        "colab": {
          "base_uri": "https://localhost:8080/",
          "height": 424
        },
        "id": "AammssxIAw3N",
        "outputId": "24c44ff7-b1eb-40e4-8f05-e1df9ab0d7a1"
      },
      "execution_count": 4,
      "outputs": [
        {
          "output_type": "execute_result",
          "data": {
            "text/plain": [
              "        v1                                                 v2 Unnamed: 2  \\\n",
              "0      ham  Go until jurong point, crazy.. Available only ...        NaN   \n",
              "1      ham                      Ok lar... Joking wif u oni...        NaN   \n",
              "2     spam  Free entry in 2 a wkly comp to win FA Cup fina...        NaN   \n",
              "3      ham  U dun say so early hor... U c already then say...        NaN   \n",
              "4      ham  Nah I don't think he goes to usf, he lives aro...        NaN   \n",
              "...    ...                                                ...        ...   \n",
              "5567  spam  This is the 2nd time we have tried 2 contact u...        NaN   \n",
              "5568   ham              Will �_ b going to esplanade fr home?        NaN   \n",
              "5569   ham  Pity, * was in mood for that. So...any other s...        NaN   \n",
              "5570   ham  The guy did some bitching but I acted like i'd...        NaN   \n",
              "5571   ham                         Rofl. Its true to its name        NaN   \n",
              "\n",
              "     Unnamed: 3 Unnamed: 4  \n",
              "0           NaN        NaN  \n",
              "1           NaN        NaN  \n",
              "2           NaN        NaN  \n",
              "3           NaN        NaN  \n",
              "4           NaN        NaN  \n",
              "...         ...        ...  \n",
              "5567        NaN        NaN  \n",
              "5568        NaN        NaN  \n",
              "5569        NaN        NaN  \n",
              "5570        NaN        NaN  \n",
              "5571        NaN        NaN  \n",
              "\n",
              "[5572 rows x 5 columns]"
            ],
            "text/html": [
              "\n",
              "  <div id=\"df-a7b08028-20bb-4486-a78a-8e0a00315e4a\" class=\"colab-df-container\">\n",
              "    <div>\n",
              "<style scoped>\n",
              "    .dataframe tbody tr th:only-of-type {\n",
              "        vertical-align: middle;\n",
              "    }\n",
              "\n",
              "    .dataframe tbody tr th {\n",
              "        vertical-align: top;\n",
              "    }\n",
              "\n",
              "    .dataframe thead th {\n",
              "        text-align: right;\n",
              "    }\n",
              "</style>\n",
              "<table border=\"1\" class=\"dataframe\">\n",
              "  <thead>\n",
              "    <tr style=\"text-align: right;\">\n",
              "      <th></th>\n",
              "      <th>v1</th>\n",
              "      <th>v2</th>\n",
              "      <th>Unnamed: 2</th>\n",
              "      <th>Unnamed: 3</th>\n",
              "      <th>Unnamed: 4</th>\n",
              "    </tr>\n",
              "  </thead>\n",
              "  <tbody>\n",
              "    <tr>\n",
              "      <th>0</th>\n",
              "      <td>ham</td>\n",
              "      <td>Go until jurong point, crazy.. Available only ...</td>\n",
              "      <td>NaN</td>\n",
              "      <td>NaN</td>\n",
              "      <td>NaN</td>\n",
              "    </tr>\n",
              "    <tr>\n",
              "      <th>1</th>\n",
              "      <td>ham</td>\n",
              "      <td>Ok lar... Joking wif u oni...</td>\n",
              "      <td>NaN</td>\n",
              "      <td>NaN</td>\n",
              "      <td>NaN</td>\n",
              "    </tr>\n",
              "    <tr>\n",
              "      <th>2</th>\n",
              "      <td>spam</td>\n",
              "      <td>Free entry in 2 a wkly comp to win FA Cup fina...</td>\n",
              "      <td>NaN</td>\n",
              "      <td>NaN</td>\n",
              "      <td>NaN</td>\n",
              "    </tr>\n",
              "    <tr>\n",
              "      <th>3</th>\n",
              "      <td>ham</td>\n",
              "      <td>U dun say so early hor... U c already then say...</td>\n",
              "      <td>NaN</td>\n",
              "      <td>NaN</td>\n",
              "      <td>NaN</td>\n",
              "    </tr>\n",
              "    <tr>\n",
              "      <th>4</th>\n",
              "      <td>ham</td>\n",
              "      <td>Nah I don't think he goes to usf, he lives aro...</td>\n",
              "      <td>NaN</td>\n",
              "      <td>NaN</td>\n",
              "      <td>NaN</td>\n",
              "    </tr>\n",
              "    <tr>\n",
              "      <th>...</th>\n",
              "      <td>...</td>\n",
              "      <td>...</td>\n",
              "      <td>...</td>\n",
              "      <td>...</td>\n",
              "      <td>...</td>\n",
              "    </tr>\n",
              "    <tr>\n",
              "      <th>5567</th>\n",
              "      <td>spam</td>\n",
              "      <td>This is the 2nd time we have tried 2 contact u...</td>\n",
              "      <td>NaN</td>\n",
              "      <td>NaN</td>\n",
              "      <td>NaN</td>\n",
              "    </tr>\n",
              "    <tr>\n",
              "      <th>5568</th>\n",
              "      <td>ham</td>\n",
              "      <td>Will �_ b going to esplanade fr home?</td>\n",
              "      <td>NaN</td>\n",
              "      <td>NaN</td>\n",
              "      <td>NaN</td>\n",
              "    </tr>\n",
              "    <tr>\n",
              "      <th>5569</th>\n",
              "      <td>ham</td>\n",
              "      <td>Pity, * was in mood for that. So...any other s...</td>\n",
              "      <td>NaN</td>\n",
              "      <td>NaN</td>\n",
              "      <td>NaN</td>\n",
              "    </tr>\n",
              "    <tr>\n",
              "      <th>5570</th>\n",
              "      <td>ham</td>\n",
              "      <td>The guy did some bitching but I acted like i'd...</td>\n",
              "      <td>NaN</td>\n",
              "      <td>NaN</td>\n",
              "      <td>NaN</td>\n",
              "    </tr>\n",
              "    <tr>\n",
              "      <th>5571</th>\n",
              "      <td>ham</td>\n",
              "      <td>Rofl. Its true to its name</td>\n",
              "      <td>NaN</td>\n",
              "      <td>NaN</td>\n",
              "      <td>NaN</td>\n",
              "    </tr>\n",
              "  </tbody>\n",
              "</table>\n",
              "<p>5572 rows × 5 columns</p>\n",
              "</div>\n",
              "    <div class=\"colab-df-buttons\">\n",
              "\n",
              "  <div class=\"colab-df-container\">\n",
              "    <button class=\"colab-df-convert\" onclick=\"convertToInteractive('df-a7b08028-20bb-4486-a78a-8e0a00315e4a')\"\n",
              "            title=\"Convert this dataframe to an interactive table.\"\n",
              "            style=\"display:none;\">\n",
              "\n",
              "  <svg xmlns=\"http://www.w3.org/2000/svg\" height=\"24px\" viewBox=\"0 -960 960 960\">\n",
              "    <path d=\"M120-120v-720h720v720H120Zm60-500h600v-160H180v160Zm220 220h160v-160H400v160Zm0 220h160v-160H400v160ZM180-400h160v-160H180v160Zm440 0h160v-160H620v160ZM180-180h160v-160H180v160Zm440 0h160v-160H620v160Z\"/>\n",
              "  </svg>\n",
              "    </button>\n",
              "\n",
              "  <style>\n",
              "    .colab-df-container {\n",
              "      display:flex;\n",
              "      gap: 12px;\n",
              "    }\n",
              "\n",
              "    .colab-df-convert {\n",
              "      background-color: #E8F0FE;\n",
              "      border: none;\n",
              "      border-radius: 50%;\n",
              "      cursor: pointer;\n",
              "      display: none;\n",
              "      fill: #1967D2;\n",
              "      height: 32px;\n",
              "      padding: 0 0 0 0;\n",
              "      width: 32px;\n",
              "    }\n",
              "\n",
              "    .colab-df-convert:hover {\n",
              "      background-color: #E2EBFA;\n",
              "      box-shadow: 0px 1px 2px rgba(60, 64, 67, 0.3), 0px 1px 3px 1px rgba(60, 64, 67, 0.15);\n",
              "      fill: #174EA6;\n",
              "    }\n",
              "\n",
              "    .colab-df-buttons div {\n",
              "      margin-bottom: 4px;\n",
              "    }\n",
              "\n",
              "    [theme=dark] .colab-df-convert {\n",
              "      background-color: #3B4455;\n",
              "      fill: #D2E3FC;\n",
              "    }\n",
              "\n",
              "    [theme=dark] .colab-df-convert:hover {\n",
              "      background-color: #434B5C;\n",
              "      box-shadow: 0px 1px 3px 1px rgba(0, 0, 0, 0.15);\n",
              "      filter: drop-shadow(0px 1px 2px rgba(0, 0, 0, 0.3));\n",
              "      fill: #FFFFFF;\n",
              "    }\n",
              "  </style>\n",
              "\n",
              "    <script>\n",
              "      const buttonEl =\n",
              "        document.querySelector('#df-a7b08028-20bb-4486-a78a-8e0a00315e4a button.colab-df-convert');\n",
              "      buttonEl.style.display =\n",
              "        google.colab.kernel.accessAllowed ? 'block' : 'none';\n",
              "\n",
              "      async function convertToInteractive(key) {\n",
              "        const element = document.querySelector('#df-a7b08028-20bb-4486-a78a-8e0a00315e4a');\n",
              "        const dataTable =\n",
              "          await google.colab.kernel.invokeFunction('convertToInteractive',\n",
              "                                                    [key], {});\n",
              "        if (!dataTable) return;\n",
              "\n",
              "        const docLinkHtml = 'Like what you see? Visit the ' +\n",
              "          '<a target=\"_blank\" href=https://colab.research.google.com/notebooks/data_table.ipynb>data table notebook</a>'\n",
              "          + ' to learn more about interactive tables.';\n",
              "        element.innerHTML = '';\n",
              "        dataTable['output_type'] = 'display_data';\n",
              "        await google.colab.output.renderOutput(dataTable, element);\n",
              "        const docLink = document.createElement('div');\n",
              "        docLink.innerHTML = docLinkHtml;\n",
              "        element.appendChild(docLink);\n",
              "      }\n",
              "    </script>\n",
              "  </div>\n",
              "\n",
              "\n",
              "<div id=\"df-e68a2113-3495-47df-bcb7-d3c4b0972443\">\n",
              "  <button class=\"colab-df-quickchart\" onclick=\"quickchart('df-e68a2113-3495-47df-bcb7-d3c4b0972443')\"\n",
              "            title=\"Suggest charts\"\n",
              "            style=\"display:none;\">\n",
              "\n",
              "<svg xmlns=\"http://www.w3.org/2000/svg\" height=\"24px\"viewBox=\"0 0 24 24\"\n",
              "     width=\"24px\">\n",
              "    <g>\n",
              "        <path d=\"M19 3H5c-1.1 0-2 .9-2 2v14c0 1.1.9 2 2 2h14c1.1 0 2-.9 2-2V5c0-1.1-.9-2-2-2zM9 17H7v-7h2v7zm4 0h-2V7h2v10zm4 0h-2v-4h2v4z\"/>\n",
              "    </g>\n",
              "</svg>\n",
              "  </button>\n",
              "\n",
              "<style>\n",
              "  .colab-df-quickchart {\n",
              "      --bg-color: #E8F0FE;\n",
              "      --fill-color: #1967D2;\n",
              "      --hover-bg-color: #E2EBFA;\n",
              "      --hover-fill-color: #174EA6;\n",
              "      --disabled-fill-color: #AAA;\n",
              "      --disabled-bg-color: #DDD;\n",
              "  }\n",
              "\n",
              "  [theme=dark] .colab-df-quickchart {\n",
              "      --bg-color: #3B4455;\n",
              "      --fill-color: #D2E3FC;\n",
              "      --hover-bg-color: #434B5C;\n",
              "      --hover-fill-color: #FFFFFF;\n",
              "      --disabled-bg-color: #3B4455;\n",
              "      --disabled-fill-color: #666;\n",
              "  }\n",
              "\n",
              "  .colab-df-quickchart {\n",
              "    background-color: var(--bg-color);\n",
              "    border: none;\n",
              "    border-radius: 50%;\n",
              "    cursor: pointer;\n",
              "    display: none;\n",
              "    fill: var(--fill-color);\n",
              "    height: 32px;\n",
              "    padding: 0;\n",
              "    width: 32px;\n",
              "  }\n",
              "\n",
              "  .colab-df-quickchart:hover {\n",
              "    background-color: var(--hover-bg-color);\n",
              "    box-shadow: 0 1px 2px rgba(60, 64, 67, 0.3), 0 1px 3px 1px rgba(60, 64, 67, 0.15);\n",
              "    fill: var(--button-hover-fill-color);\n",
              "  }\n",
              "\n",
              "  .colab-df-quickchart-complete:disabled,\n",
              "  .colab-df-quickchart-complete:disabled:hover {\n",
              "    background-color: var(--disabled-bg-color);\n",
              "    fill: var(--disabled-fill-color);\n",
              "    box-shadow: none;\n",
              "  }\n",
              "\n",
              "  .colab-df-spinner {\n",
              "    border: 2px solid var(--fill-color);\n",
              "    border-color: transparent;\n",
              "    border-bottom-color: var(--fill-color);\n",
              "    animation:\n",
              "      spin 1s steps(1) infinite;\n",
              "  }\n",
              "\n",
              "  @keyframes spin {\n",
              "    0% {\n",
              "      border-color: transparent;\n",
              "      border-bottom-color: var(--fill-color);\n",
              "      border-left-color: var(--fill-color);\n",
              "    }\n",
              "    20% {\n",
              "      border-color: transparent;\n",
              "      border-left-color: var(--fill-color);\n",
              "      border-top-color: var(--fill-color);\n",
              "    }\n",
              "    30% {\n",
              "      border-color: transparent;\n",
              "      border-left-color: var(--fill-color);\n",
              "      border-top-color: var(--fill-color);\n",
              "      border-right-color: var(--fill-color);\n",
              "    }\n",
              "    40% {\n",
              "      border-color: transparent;\n",
              "      border-right-color: var(--fill-color);\n",
              "      border-top-color: var(--fill-color);\n",
              "    }\n",
              "    60% {\n",
              "      border-color: transparent;\n",
              "      border-right-color: var(--fill-color);\n",
              "    }\n",
              "    80% {\n",
              "      border-color: transparent;\n",
              "      border-right-color: var(--fill-color);\n",
              "      border-bottom-color: var(--fill-color);\n",
              "    }\n",
              "    90% {\n",
              "      border-color: transparent;\n",
              "      border-bottom-color: var(--fill-color);\n",
              "    }\n",
              "  }\n",
              "</style>\n",
              "\n",
              "  <script>\n",
              "    async function quickchart(key) {\n",
              "      const quickchartButtonEl =\n",
              "        document.querySelector('#' + key + ' button');\n",
              "      quickchartButtonEl.disabled = true;  // To prevent multiple clicks.\n",
              "      quickchartButtonEl.classList.add('colab-df-spinner');\n",
              "      try {\n",
              "        const charts = await google.colab.kernel.invokeFunction(\n",
              "            'suggestCharts', [key], {});\n",
              "      } catch (error) {\n",
              "        console.error('Error during call to suggestCharts:', error);\n",
              "      }\n",
              "      quickchartButtonEl.classList.remove('colab-df-spinner');\n",
              "      quickchartButtonEl.classList.add('colab-df-quickchart-complete');\n",
              "    }\n",
              "    (() => {\n",
              "      let quickchartButtonEl =\n",
              "        document.querySelector('#df-e68a2113-3495-47df-bcb7-d3c4b0972443 button');\n",
              "      quickchartButtonEl.style.display =\n",
              "        google.colab.kernel.accessAllowed ? 'block' : 'none';\n",
              "    })();\n",
              "  </script>\n",
              "</div>\n",
              "\n",
              "  <div id=\"id_14228375-f01a-44e1-abff-e0395cc3b12c\">\n",
              "    <style>\n",
              "      .colab-df-generate {\n",
              "        background-color: #E8F0FE;\n",
              "        border: none;\n",
              "        border-radius: 50%;\n",
              "        cursor: pointer;\n",
              "        display: none;\n",
              "        fill: #1967D2;\n",
              "        height: 32px;\n",
              "        padding: 0 0 0 0;\n",
              "        width: 32px;\n",
              "      }\n",
              "\n",
              "      .colab-df-generate:hover {\n",
              "        background-color: #E2EBFA;\n",
              "        box-shadow: 0px 1px 2px rgba(60, 64, 67, 0.3), 0px 1px 3px 1px rgba(60, 64, 67, 0.15);\n",
              "        fill: #174EA6;\n",
              "      }\n",
              "\n",
              "      [theme=dark] .colab-df-generate {\n",
              "        background-color: #3B4455;\n",
              "        fill: #D2E3FC;\n",
              "      }\n",
              "\n",
              "      [theme=dark] .colab-df-generate:hover {\n",
              "        background-color: #434B5C;\n",
              "        box-shadow: 0px 1px 3px 1px rgba(0, 0, 0, 0.15);\n",
              "        filter: drop-shadow(0px 1px 2px rgba(0, 0, 0, 0.3));\n",
              "        fill: #FFFFFF;\n",
              "      }\n",
              "    </style>\n",
              "    <button class=\"colab-df-generate\" onclick=\"generateWithVariable('data')\"\n",
              "            title=\"Generate code using this dataframe.\"\n",
              "            style=\"display:none;\">\n",
              "\n",
              "  <svg xmlns=\"http://www.w3.org/2000/svg\" height=\"24px\"viewBox=\"0 0 24 24\"\n",
              "       width=\"24px\">\n",
              "    <path d=\"M7,19H8.4L18.45,9,17,7.55,7,17.6ZM5,21V16.75L18.45,3.32a2,2,0,0,1,2.83,0l1.4,1.43a1.91,1.91,0,0,1,.58,1.4,1.91,1.91,0,0,1-.58,1.4L9.25,21ZM18.45,9,17,7.55Zm-12,3A5.31,5.31,0,0,0,4.9,8.1,5.31,5.31,0,0,0,1,6.5,5.31,5.31,0,0,0,4.9,4.9,5.31,5.31,0,0,0,6.5,1,5.31,5.31,0,0,0,8.1,4.9,5.31,5.31,0,0,0,12,6.5,5.46,5.46,0,0,0,6.5,12Z\"/>\n",
              "  </svg>\n",
              "    </button>\n",
              "    <script>\n",
              "      (() => {\n",
              "      const buttonEl =\n",
              "        document.querySelector('#id_14228375-f01a-44e1-abff-e0395cc3b12c button.colab-df-generate');\n",
              "      buttonEl.style.display =\n",
              "        google.colab.kernel.accessAllowed ? 'block' : 'none';\n",
              "\n",
              "      buttonEl.onclick = () => {\n",
              "        google.colab.notebook.generateWithVariable('data');\n",
              "      }\n",
              "      })();\n",
              "    </script>\n",
              "  </div>\n",
              "\n",
              "    </div>\n",
              "  </div>\n"
            ],
            "application/vnd.google.colaboratory.intrinsic+json": {
              "type": "dataframe",
              "variable_name": "data",
              "summary": "{\n  \"name\": \"data\",\n  \"rows\": 5572,\n  \"fields\": [\n    {\n      \"column\": \"v1\",\n      \"properties\": {\n        \"dtype\": \"category\",\n        \"num_unique_values\": 2,\n        \"samples\": [\n          \"spam\",\n          \"ham\"\n        ],\n        \"semantic_type\": \"\",\n        \"description\": \"\"\n      }\n    },\n    {\n      \"column\": \"v2\",\n      \"properties\": {\n        \"dtype\": \"string\",\n        \"num_unique_values\": 5169,\n        \"samples\": [\n          \"Did u download the fring app?\",\n          \"Pass dis to all ur contacts n see wat u get! Red;i'm in luv wid u. Blue;u put a smile on my face. Purple;u r realy hot. Pink;u r so swt. Orange;i thnk i lyk u. Green;i realy wana go out wid u. Yelow;i wnt u bck. Black;i'm jealous of u. Brown;i miss you Nw plz giv me one color\"\n        ],\n        \"semantic_type\": \"\",\n        \"description\": \"\"\n      }\n    },\n    {\n      \"column\": \"Unnamed: 2\",\n      \"properties\": {\n        \"dtype\": \"category\",\n        \"num_unique_values\": 43,\n        \"samples\": [\n          \" GOD said\",\n          \" SHE SHUDVETOLD U. DID URGRAN KNOW?NEWAY\"\n        ],\n        \"semantic_type\": \"\",\n        \"description\": \"\"\n      }\n    },\n    {\n      \"column\": \"Unnamed: 3\",\n      \"properties\": {\n        \"dtype\": \"category\",\n        \"num_unique_values\": 10,\n        \"samples\": [\n          \" \\\\\\\"OH No! COMPETITION\\\\\\\". Who knew\",\n          \" why to miss them\"\n        ],\n        \"semantic_type\": \"\",\n        \"description\": \"\"\n      }\n    },\n    {\n      \"column\": \"Unnamed: 4\",\n      \"properties\": {\n        \"dtype\": \"category\",\n        \"num_unique_values\": 5,\n        \"samples\": [\n          \"GNT:-)\\\"\",\n          \" one day these two will become FREINDS FOREVER!\\\"\"\n        ],\n        \"semantic_type\": \"\",\n        \"description\": \"\"\n      }\n    }\n  ]\n}"
            }
          },
          "metadata": {},
          "execution_count": 4
        }
      ]
    },
    {
      "cell_type": "code",
      "source": [
        "data = data[['v1', 'v2']]\n",
        "data\n"
      ],
      "metadata": {
        "colab": {
          "base_uri": "https://localhost:8080/",
          "height": 424
        },
        "id": "aTYlMyPxBpSN",
        "outputId": "9a3aafc6-b0b3-453d-ec6a-292f1a2130ff"
      },
      "execution_count": 5,
      "outputs": [
        {
          "output_type": "execute_result",
          "data": {
            "text/plain": [
              "        v1                                                 v2\n",
              "0      ham  Go until jurong point, crazy.. Available only ...\n",
              "1      ham                      Ok lar... Joking wif u oni...\n",
              "2     spam  Free entry in 2 a wkly comp to win FA Cup fina...\n",
              "3      ham  U dun say so early hor... U c already then say...\n",
              "4      ham  Nah I don't think he goes to usf, he lives aro...\n",
              "...    ...                                                ...\n",
              "5567  spam  This is the 2nd time we have tried 2 contact u...\n",
              "5568   ham              Will �_ b going to esplanade fr home?\n",
              "5569   ham  Pity, * was in mood for that. So...any other s...\n",
              "5570   ham  The guy did some bitching but I acted like i'd...\n",
              "5571   ham                         Rofl. Its true to its name\n",
              "\n",
              "[5572 rows x 2 columns]"
            ],
            "text/html": [
              "\n",
              "  <div id=\"df-ae8656ee-7b00-4fde-9152-920c0ef3fc29\" class=\"colab-df-container\">\n",
              "    <div>\n",
              "<style scoped>\n",
              "    .dataframe tbody tr th:only-of-type {\n",
              "        vertical-align: middle;\n",
              "    }\n",
              "\n",
              "    .dataframe tbody tr th {\n",
              "        vertical-align: top;\n",
              "    }\n",
              "\n",
              "    .dataframe thead th {\n",
              "        text-align: right;\n",
              "    }\n",
              "</style>\n",
              "<table border=\"1\" class=\"dataframe\">\n",
              "  <thead>\n",
              "    <tr style=\"text-align: right;\">\n",
              "      <th></th>\n",
              "      <th>v1</th>\n",
              "      <th>v2</th>\n",
              "    </tr>\n",
              "  </thead>\n",
              "  <tbody>\n",
              "    <tr>\n",
              "      <th>0</th>\n",
              "      <td>ham</td>\n",
              "      <td>Go until jurong point, crazy.. Available only ...</td>\n",
              "    </tr>\n",
              "    <tr>\n",
              "      <th>1</th>\n",
              "      <td>ham</td>\n",
              "      <td>Ok lar... Joking wif u oni...</td>\n",
              "    </tr>\n",
              "    <tr>\n",
              "      <th>2</th>\n",
              "      <td>spam</td>\n",
              "      <td>Free entry in 2 a wkly comp to win FA Cup fina...</td>\n",
              "    </tr>\n",
              "    <tr>\n",
              "      <th>3</th>\n",
              "      <td>ham</td>\n",
              "      <td>U dun say so early hor... U c already then say...</td>\n",
              "    </tr>\n",
              "    <tr>\n",
              "      <th>4</th>\n",
              "      <td>ham</td>\n",
              "      <td>Nah I don't think he goes to usf, he lives aro...</td>\n",
              "    </tr>\n",
              "    <tr>\n",
              "      <th>...</th>\n",
              "      <td>...</td>\n",
              "      <td>...</td>\n",
              "    </tr>\n",
              "    <tr>\n",
              "      <th>5567</th>\n",
              "      <td>spam</td>\n",
              "      <td>This is the 2nd time we have tried 2 contact u...</td>\n",
              "    </tr>\n",
              "    <tr>\n",
              "      <th>5568</th>\n",
              "      <td>ham</td>\n",
              "      <td>Will �_ b going to esplanade fr home?</td>\n",
              "    </tr>\n",
              "    <tr>\n",
              "      <th>5569</th>\n",
              "      <td>ham</td>\n",
              "      <td>Pity, * was in mood for that. So...any other s...</td>\n",
              "    </tr>\n",
              "    <tr>\n",
              "      <th>5570</th>\n",
              "      <td>ham</td>\n",
              "      <td>The guy did some bitching but I acted like i'd...</td>\n",
              "    </tr>\n",
              "    <tr>\n",
              "      <th>5571</th>\n",
              "      <td>ham</td>\n",
              "      <td>Rofl. Its true to its name</td>\n",
              "    </tr>\n",
              "  </tbody>\n",
              "</table>\n",
              "<p>5572 rows × 2 columns</p>\n",
              "</div>\n",
              "    <div class=\"colab-df-buttons\">\n",
              "\n",
              "  <div class=\"colab-df-container\">\n",
              "    <button class=\"colab-df-convert\" onclick=\"convertToInteractive('df-ae8656ee-7b00-4fde-9152-920c0ef3fc29')\"\n",
              "            title=\"Convert this dataframe to an interactive table.\"\n",
              "            style=\"display:none;\">\n",
              "\n",
              "  <svg xmlns=\"http://www.w3.org/2000/svg\" height=\"24px\" viewBox=\"0 -960 960 960\">\n",
              "    <path d=\"M120-120v-720h720v720H120Zm60-500h600v-160H180v160Zm220 220h160v-160H400v160Zm0 220h160v-160H400v160ZM180-400h160v-160H180v160Zm440 0h160v-160H620v160ZM180-180h160v-160H180v160Zm440 0h160v-160H620v160Z\"/>\n",
              "  </svg>\n",
              "    </button>\n",
              "\n",
              "  <style>\n",
              "    .colab-df-container {\n",
              "      display:flex;\n",
              "      gap: 12px;\n",
              "    }\n",
              "\n",
              "    .colab-df-convert {\n",
              "      background-color: #E8F0FE;\n",
              "      border: none;\n",
              "      border-radius: 50%;\n",
              "      cursor: pointer;\n",
              "      display: none;\n",
              "      fill: #1967D2;\n",
              "      height: 32px;\n",
              "      padding: 0 0 0 0;\n",
              "      width: 32px;\n",
              "    }\n",
              "\n",
              "    .colab-df-convert:hover {\n",
              "      background-color: #E2EBFA;\n",
              "      box-shadow: 0px 1px 2px rgba(60, 64, 67, 0.3), 0px 1px 3px 1px rgba(60, 64, 67, 0.15);\n",
              "      fill: #174EA6;\n",
              "    }\n",
              "\n",
              "    .colab-df-buttons div {\n",
              "      margin-bottom: 4px;\n",
              "    }\n",
              "\n",
              "    [theme=dark] .colab-df-convert {\n",
              "      background-color: #3B4455;\n",
              "      fill: #D2E3FC;\n",
              "    }\n",
              "\n",
              "    [theme=dark] .colab-df-convert:hover {\n",
              "      background-color: #434B5C;\n",
              "      box-shadow: 0px 1px 3px 1px rgba(0, 0, 0, 0.15);\n",
              "      filter: drop-shadow(0px 1px 2px rgba(0, 0, 0, 0.3));\n",
              "      fill: #FFFFFF;\n",
              "    }\n",
              "  </style>\n",
              "\n",
              "    <script>\n",
              "      const buttonEl =\n",
              "        document.querySelector('#df-ae8656ee-7b00-4fde-9152-920c0ef3fc29 button.colab-df-convert');\n",
              "      buttonEl.style.display =\n",
              "        google.colab.kernel.accessAllowed ? 'block' : 'none';\n",
              "\n",
              "      async function convertToInteractive(key) {\n",
              "        const element = document.querySelector('#df-ae8656ee-7b00-4fde-9152-920c0ef3fc29');\n",
              "        const dataTable =\n",
              "          await google.colab.kernel.invokeFunction('convertToInteractive',\n",
              "                                                    [key], {});\n",
              "        if (!dataTable) return;\n",
              "\n",
              "        const docLinkHtml = 'Like what you see? Visit the ' +\n",
              "          '<a target=\"_blank\" href=https://colab.research.google.com/notebooks/data_table.ipynb>data table notebook</a>'\n",
              "          + ' to learn more about interactive tables.';\n",
              "        element.innerHTML = '';\n",
              "        dataTable['output_type'] = 'display_data';\n",
              "        await google.colab.output.renderOutput(dataTable, element);\n",
              "        const docLink = document.createElement('div');\n",
              "        docLink.innerHTML = docLinkHtml;\n",
              "        element.appendChild(docLink);\n",
              "      }\n",
              "    </script>\n",
              "  </div>\n",
              "\n",
              "\n",
              "<div id=\"df-70107d27-07e3-460f-85f9-422d1297355e\">\n",
              "  <button class=\"colab-df-quickchart\" onclick=\"quickchart('df-70107d27-07e3-460f-85f9-422d1297355e')\"\n",
              "            title=\"Suggest charts\"\n",
              "            style=\"display:none;\">\n",
              "\n",
              "<svg xmlns=\"http://www.w3.org/2000/svg\" height=\"24px\"viewBox=\"0 0 24 24\"\n",
              "     width=\"24px\">\n",
              "    <g>\n",
              "        <path d=\"M19 3H5c-1.1 0-2 .9-2 2v14c0 1.1.9 2 2 2h14c1.1 0 2-.9 2-2V5c0-1.1-.9-2-2-2zM9 17H7v-7h2v7zm4 0h-2V7h2v10zm4 0h-2v-4h2v4z\"/>\n",
              "    </g>\n",
              "</svg>\n",
              "  </button>\n",
              "\n",
              "<style>\n",
              "  .colab-df-quickchart {\n",
              "      --bg-color: #E8F0FE;\n",
              "      --fill-color: #1967D2;\n",
              "      --hover-bg-color: #E2EBFA;\n",
              "      --hover-fill-color: #174EA6;\n",
              "      --disabled-fill-color: #AAA;\n",
              "      --disabled-bg-color: #DDD;\n",
              "  }\n",
              "\n",
              "  [theme=dark] .colab-df-quickchart {\n",
              "      --bg-color: #3B4455;\n",
              "      --fill-color: #D2E3FC;\n",
              "      --hover-bg-color: #434B5C;\n",
              "      --hover-fill-color: #FFFFFF;\n",
              "      --disabled-bg-color: #3B4455;\n",
              "      --disabled-fill-color: #666;\n",
              "  }\n",
              "\n",
              "  .colab-df-quickchart {\n",
              "    background-color: var(--bg-color);\n",
              "    border: none;\n",
              "    border-radius: 50%;\n",
              "    cursor: pointer;\n",
              "    display: none;\n",
              "    fill: var(--fill-color);\n",
              "    height: 32px;\n",
              "    padding: 0;\n",
              "    width: 32px;\n",
              "  }\n",
              "\n",
              "  .colab-df-quickchart:hover {\n",
              "    background-color: var(--hover-bg-color);\n",
              "    box-shadow: 0 1px 2px rgba(60, 64, 67, 0.3), 0 1px 3px 1px rgba(60, 64, 67, 0.15);\n",
              "    fill: var(--button-hover-fill-color);\n",
              "  }\n",
              "\n",
              "  .colab-df-quickchart-complete:disabled,\n",
              "  .colab-df-quickchart-complete:disabled:hover {\n",
              "    background-color: var(--disabled-bg-color);\n",
              "    fill: var(--disabled-fill-color);\n",
              "    box-shadow: none;\n",
              "  }\n",
              "\n",
              "  .colab-df-spinner {\n",
              "    border: 2px solid var(--fill-color);\n",
              "    border-color: transparent;\n",
              "    border-bottom-color: var(--fill-color);\n",
              "    animation:\n",
              "      spin 1s steps(1) infinite;\n",
              "  }\n",
              "\n",
              "  @keyframes spin {\n",
              "    0% {\n",
              "      border-color: transparent;\n",
              "      border-bottom-color: var(--fill-color);\n",
              "      border-left-color: var(--fill-color);\n",
              "    }\n",
              "    20% {\n",
              "      border-color: transparent;\n",
              "      border-left-color: var(--fill-color);\n",
              "      border-top-color: var(--fill-color);\n",
              "    }\n",
              "    30% {\n",
              "      border-color: transparent;\n",
              "      border-left-color: var(--fill-color);\n",
              "      border-top-color: var(--fill-color);\n",
              "      border-right-color: var(--fill-color);\n",
              "    }\n",
              "    40% {\n",
              "      border-color: transparent;\n",
              "      border-right-color: var(--fill-color);\n",
              "      border-top-color: var(--fill-color);\n",
              "    }\n",
              "    60% {\n",
              "      border-color: transparent;\n",
              "      border-right-color: var(--fill-color);\n",
              "    }\n",
              "    80% {\n",
              "      border-color: transparent;\n",
              "      border-right-color: var(--fill-color);\n",
              "      border-bottom-color: var(--fill-color);\n",
              "    }\n",
              "    90% {\n",
              "      border-color: transparent;\n",
              "      border-bottom-color: var(--fill-color);\n",
              "    }\n",
              "  }\n",
              "</style>\n",
              "\n",
              "  <script>\n",
              "    async function quickchart(key) {\n",
              "      const quickchartButtonEl =\n",
              "        document.querySelector('#' + key + ' button');\n",
              "      quickchartButtonEl.disabled = true;  // To prevent multiple clicks.\n",
              "      quickchartButtonEl.classList.add('colab-df-spinner');\n",
              "      try {\n",
              "        const charts = await google.colab.kernel.invokeFunction(\n",
              "            'suggestCharts', [key], {});\n",
              "      } catch (error) {\n",
              "        console.error('Error during call to suggestCharts:', error);\n",
              "      }\n",
              "      quickchartButtonEl.classList.remove('colab-df-spinner');\n",
              "      quickchartButtonEl.classList.add('colab-df-quickchart-complete');\n",
              "    }\n",
              "    (() => {\n",
              "      let quickchartButtonEl =\n",
              "        document.querySelector('#df-70107d27-07e3-460f-85f9-422d1297355e button');\n",
              "      quickchartButtonEl.style.display =\n",
              "        google.colab.kernel.accessAllowed ? 'block' : 'none';\n",
              "    })();\n",
              "  </script>\n",
              "</div>\n",
              "\n",
              "  <div id=\"id_1558a70a-0480-49c5-bfe5-76181163c827\">\n",
              "    <style>\n",
              "      .colab-df-generate {\n",
              "        background-color: #E8F0FE;\n",
              "        border: none;\n",
              "        border-radius: 50%;\n",
              "        cursor: pointer;\n",
              "        display: none;\n",
              "        fill: #1967D2;\n",
              "        height: 32px;\n",
              "        padding: 0 0 0 0;\n",
              "        width: 32px;\n",
              "      }\n",
              "\n",
              "      .colab-df-generate:hover {\n",
              "        background-color: #E2EBFA;\n",
              "        box-shadow: 0px 1px 2px rgba(60, 64, 67, 0.3), 0px 1px 3px 1px rgba(60, 64, 67, 0.15);\n",
              "        fill: #174EA6;\n",
              "      }\n",
              "\n",
              "      [theme=dark] .colab-df-generate {\n",
              "        background-color: #3B4455;\n",
              "        fill: #D2E3FC;\n",
              "      }\n",
              "\n",
              "      [theme=dark] .colab-df-generate:hover {\n",
              "        background-color: #434B5C;\n",
              "        box-shadow: 0px 1px 3px 1px rgba(0, 0, 0, 0.15);\n",
              "        filter: drop-shadow(0px 1px 2px rgba(0, 0, 0, 0.3));\n",
              "        fill: #FFFFFF;\n",
              "      }\n",
              "    </style>\n",
              "    <button class=\"colab-df-generate\" onclick=\"generateWithVariable('data')\"\n",
              "            title=\"Generate code using this dataframe.\"\n",
              "            style=\"display:none;\">\n",
              "\n",
              "  <svg xmlns=\"http://www.w3.org/2000/svg\" height=\"24px\"viewBox=\"0 0 24 24\"\n",
              "       width=\"24px\">\n",
              "    <path d=\"M7,19H8.4L18.45,9,17,7.55,7,17.6ZM5,21V16.75L18.45,3.32a2,2,0,0,1,2.83,0l1.4,1.43a1.91,1.91,0,0,1,.58,1.4,1.91,1.91,0,0,1-.58,1.4L9.25,21ZM18.45,9,17,7.55Zm-12,3A5.31,5.31,0,0,0,4.9,8.1,5.31,5.31,0,0,0,1,6.5,5.31,5.31,0,0,0,4.9,4.9,5.31,5.31,0,0,0,6.5,1,5.31,5.31,0,0,0,8.1,4.9,5.31,5.31,0,0,0,12,6.5,5.46,5.46,0,0,0,6.5,12Z\"/>\n",
              "  </svg>\n",
              "    </button>\n",
              "    <script>\n",
              "      (() => {\n",
              "      const buttonEl =\n",
              "        document.querySelector('#id_1558a70a-0480-49c5-bfe5-76181163c827 button.colab-df-generate');\n",
              "      buttonEl.style.display =\n",
              "        google.colab.kernel.accessAllowed ? 'block' : 'none';\n",
              "\n",
              "      buttonEl.onclick = () => {\n",
              "        google.colab.notebook.generateWithVariable('data');\n",
              "      }\n",
              "      })();\n",
              "    </script>\n",
              "  </div>\n",
              "\n",
              "    </div>\n",
              "  </div>\n"
            ],
            "application/vnd.google.colaboratory.intrinsic+json": {
              "type": "dataframe",
              "variable_name": "data",
              "summary": "{\n  \"name\": \"data\",\n  \"rows\": 5572,\n  \"fields\": [\n    {\n      \"column\": \"v1\",\n      \"properties\": {\n        \"dtype\": \"category\",\n        \"num_unique_values\": 2,\n        \"samples\": [\n          \"spam\",\n          \"ham\"\n        ],\n        \"semantic_type\": \"\",\n        \"description\": \"\"\n      }\n    },\n    {\n      \"column\": \"v2\",\n      \"properties\": {\n        \"dtype\": \"string\",\n        \"num_unique_values\": 5169,\n        \"samples\": [\n          \"Did u download the fring app?\",\n          \"Pass dis to all ur contacts n see wat u get! Red;i'm in luv wid u. Blue;u put a smile on my face. Purple;u r realy hot. Pink;u r so swt. Orange;i thnk i lyk u. Green;i realy wana go out wid u. Yelow;i wnt u bck. Black;i'm jealous of u. Brown;i miss you Nw plz giv me one color\"\n        ],\n        \"semantic_type\": \"\",\n        \"description\": \"\"\n      }\n    }\n  ]\n}"
            }
          },
          "metadata": {},
          "execution_count": 5
        }
      ]
    },
    {
      "cell_type": "code",
      "source": [
        "num_spam = len(data[data['v1'] == 'spam'])\n",
        "\n",
        "ham_samples = data[data['v1'] == 'ham'].sample(n=num_spam, random_state=42)\n",
        "\n",
        "balanced_data = pd.concat([data[data['v1'] == 'spam'], ham_samples])"
      ],
      "metadata": {
        "id": "AAQ0x_JxKCPD"
      },
      "execution_count": 6,
      "outputs": []
    },
    {
      "cell_type": "code",
      "source": [
        "data = balanced_data.sample(frac=1, random_state=42)"
      ],
      "metadata": {
        "id": "FlTgXPeZKEqP"
      },
      "execution_count": 7,
      "outputs": []
    },
    {
      "cell_type": "code",
      "source": [
        "import matplotlib.pyplot as plt\n",
        "\n",
        "class_counts = data['v1'].value_counts()\n",
        "\n",
        "plt.figure(figsize=(8, 6))\n",
        "plt.bar(class_counts.index, class_counts.values)\n",
        "plt.xlabel('Class')\n",
        "plt.ylabel('Count')\n",
        "plt.title('Spam/Ham Distribution')\n",
        "plt.show()"
      ],
      "metadata": {
        "id": "Ywl08986KYv6",
        "outputId": "857553e6-bcb8-4bcf-e88a-8c7ef4958b26",
        "colab": {
          "base_uri": "https://localhost:8080/",
          "height": 564
        }
      },
      "execution_count": 8,
      "outputs": [
        {
          "output_type": "display_data",
          "data": {
            "text/plain": [
              "<Figure size 800x600 with 1 Axes>"
            ],
            "image/png": "[encoded data removed]"
          },
          "metadata": {}
        }
      ]
    },
    {
      "cell_type": "code",
      "source": [
        "import nltk\n",
        "nltk.download('punkt')\n",
        "nltk.download('stopwords')\n",
        "from nltk.corpus import stopwords\n",
        "from nltk.tokenize import word_tokenize\n",
        "from nltk.stem import PorterStemmer\n",
        "import re\n",
        "\n",
        "def preprocess_text(text):\n",
        "\n",
        "    text = text.lower()\n",
        "    text = re.sub(r'[^\\w\\s]', '', text)\n",
        "    tokens = word_tokenize(text)\n",
        "    stop_words = set(stopwords.words('english'))\n",
        "    tokens = [word for word in tokens if not word in stop_words]\n",
        "    stemmer = PorterStemmer()\n",
        "    tokens = [stemmer.stem(word) for word in tokens]\n",
        "    preprocessed_text = \" \".join(tokens)\n",
        "\n",
        "    return preprocessed_text\n",
        "\n",
        "\n",
        "data['v2'] = data['v2'].apply(preprocess_text)\n",
        "print(data.head())\n"
      ],
      "metadata": {
        "colab": {
          "base_uri": "https://localhost:8080/"
        },
        "id": "HgRa6MDlBuaQ",
        "outputId": "a83f24ca-b0d1-4cbc-faaa-6a373c90524d"
      },
      "execution_count": 9,
      "outputs": [
        {
          "output_type": "stream",
          "name": "stderr",
          "text": [
            "[nltk_data] Downloading package punkt to /root/nltk_data...\n",
            "[nltk_data]   Unzipping tokenizers/punkt.zip.\n",
            "[nltk_data] Downloading package stopwords to /root/nltk_data...\n",
            "[nltk_data]   Unzipping corpora/stopwords.zip.\n"
          ]
        },
        {
          "output_type": "stream",
          "name": "stdout",
          "text": [
            "       v1                          v2\n",
            "270   ham  come mu sort narcot situat\n",
            "4923  ham   go 4 e normal pilat intro\n",
            "4598  ham       laid airtel line rest\n",
            "5093  ham             gokila talk aha\n",
            "2775  ham        confirm eat esplanad\n"
          ]
        }
      ]
    },
    {
      "cell_type": "code",
      "source": [
        "from sklearn.model_selection import train_test_split\n",
        "from tensorflow.keras.preprocessing.text import Tokenizer\n",
        "from tensorflow.keras.preprocessing.sequence import pad_sequences\n",
        "from tensorflow.keras.models import Sequential\n",
        "from tensorflow.keras.layers import Embedding, SimpleRNN, LSTM, GRU, Dense\n",
        "from sklearn.metrics import precision_score, recall_score, f1_score"
      ],
      "metadata": {
        "id": "zeHKae8qDRwA"
      },
      "execution_count": 10,
      "outputs": []
    },
    {
      "cell_type": "code",
      "source": [
        "X = data['v2']\n",
        "y = data['v1']\n",
        "X_train, X_test, y_train, y_test = train_test_split(X, y, test_size=0.2, random_state=42)"
      ],
      "metadata": {
        "id": "IMIuDcSnDTD6"
      },
      "execution_count": 11,
      "outputs": []
    },
    {
      "cell_type": "code",
      "source": [
        "max_words = 10000\n",
        "tokenizer = Tokenizer(num_words=max_words)\n",
        "tokenizer.fit_on_texts(X_train)\n",
        "X_train_seq = tokenizer.texts_to_sequences(X_train)\n",
        "X_test_seq = tokenizer.texts_to_sequences(X_test)"
      ],
      "metadata": {
        "id": "8-0DD94dDVNW"
      },
      "execution_count": 12,
      "outputs": []
    },
    {
      "cell_type": "code",
      "source": [
        "max_length = 100\n",
        "X_train_pad = pad_sequences(X_train_seq, maxlen=max_length)\n",
        "X_test_pad = pad_sequences(X_test_seq, maxlen=max_length)"
      ],
      "metadata": {
        "id": "POsklq4VDWhe"
      },
      "execution_count": 13,
      "outputs": []
    },
    {
      "cell_type": "code",
      "source": [
        "y_train = (y_train == 'spam').astype(int)\n",
        "y_test = (y_test == 'spam').astype(int)"
      ],
      "metadata": {
        "id": "OVlvb4wWDX0A"
      },
      "execution_count": 14,
      "outputs": []
    },
    {
      "cell_type": "code",
      "source": [
        "def create_rnn_model(units, recurrent_layer):\n",
        "    model = Sequential()\n",
        "    model.add(Embedding(max_words, 128, input_length=max_length))\n",
        "    model.add(recurrent_layer(units))\n",
        "    model.add(Dense(1, activation='sigmoid'))\n",
        "    model.compile(optimizer='adam', loss='binary_crossentropy', metrics=['accuracy'])\n",
        "    return model"
      ],
      "metadata": {
        "id": "kP41l5tgDZOq"
      },
      "execution_count": 15,
      "outputs": []
    },
    {
      "cell_type": "code",
      "source": [
        "model_rnn_1 = create_rnn_model(32, SimpleRNN)\n",
        "model_rnn_2 = create_rnn_model(64, LSTM)\n",
        "model_rnn_3 = create_rnn_model(128, GRU)"
      ],
      "metadata": {
        "colab": {
          "base_uri": "https://localhost:8080/"
        },
        "id": "0vk9l4L3DauN",
        "outputId": "1b02a273-71fc-489d-b981-edd10f635767"
      },
      "execution_count": 16,
      "outputs": [
        {
          "output_type": "stream",
          "name": "stderr",
          "text": [
            "/usr/local/lib/python3.10/dist-packages/keras/src/layers/core/embedding.py:90: UserWarning: Argument `input_length` is deprecated. Just remove it.\n",
            "  warnings.warn(\n"
          ]
        }
      ]
    },
    {
      "cell_type": "code",
      "source": [
        "print(\"Model 1 Summary:\")\n",
        "model_rnn_1.summary()"
      ],
      "metadata": {
        "colab": {
          "base_uri": "https://localhost:8080/",
          "height": 249
        },
        "id": "ng7mS-UGDe8R",
        "outputId": "5ac2240d-945e-4942-cf5c-db70f4f57ebd"
      },
      "execution_count": 17,
      "outputs": [
        {
          "output_type": "stream",
          "name": "stdout",
          "text": [
            "Model 1 Summary:\n"
          ]
        },
        {
          "output_type": "display_data",
          "data": {
            "text/plain": [
              "\u001b[1mModel: \"sequential\"\u001b[0m\n"
            ],
            "text/html": [
              "<pre style=\"white-space:pre;overflow-x:auto;line-height:normal;font-family:Menlo,'DejaVu Sans Mono',consolas,'Courier New',monospace\"><span style=\"font-weight: bold\">Model: \"sequential\"</span>\n",
              "</pre>\n"
            ]
          },
          "metadata": {}
        },
        {
          "output_type": "display_data",
          "data": {
            "text/plain": [
              "┏━━━━━━━━━━━━━━━━━━━━━━━━━━━━━━━━━━━━━━┳━━━━━━━━━━━━━━━━━━━━━━━━━━━━━┳━━━━━━━━━━━━━━━━━┓\n",
              "┃\u001b[1m \u001b[0m\u001b[1mLayer (type)                        \u001b[0m\u001b[1m \u001b[0m┃\u001b[1m \u001b[0m\u001b[1mOutput Shape               \u001b[0m\u001b[1m \u001b[0m┃\u001b[1m \u001b[0m\u001b[1m        Param #\u001b[0m\u001b[1m \u001b[0m┃\n",
              "┡━━━━━━━━━━━━━━━━━━━━━━━━━━━━━━━━━━━━━━╇━━━━━━━━━━━━━━━━━━━━━━━━━━━━━╇━━━━━━━━━━━━━━━━━┩\n",
              "│ embedding (\u001b[38;5;33mEmbedding\u001b[0m)                │ ?                           │     \u001b[38;5;34m0\u001b[0m (unbuilt) │\n",
              "├──────────────────────────────────────┼─────────────────────────────┼─────────────────┤\n",
              "│ simple_rnn (\u001b[38;5;33mSimpleRNN\u001b[0m)               │ ?                           │     \u001b[38;5;34m0\u001b[0m (unbuilt) │\n",
              "├──────────────────────────────────────┼─────────────────────────────┼─────────────────┤\n",
              "│ dense (\u001b[38;5;33mDense\u001b[0m)                        │ ?                           │     \u001b[38;5;34m0\u001b[0m (unbuilt) │\n",
              "└──────────────────────────────────────┴─────────────────────────────┴─────────────────┘\n"
            ],
            "text/html": [
              "<pre style=\"white-space:pre;overflow-x:auto;line-height:normal;font-family:Menlo,'DejaVu Sans Mono',consolas,'Courier New',monospace\">┏━━━━━━━━━━━━━━━━━━━━━━━━━━━━━━━━━━━━━━┳━━━━━━━━━━━━━━━━━━━━━━━━━━━━━┳━━━━━━━━━━━━━━━━━┓\n",
              "┃<span style=\"font-weight: bold\"> Layer (type)                         </span>┃<span style=\"font-weight: bold\"> Output Shape                </span>┃<span style=\"font-weight: bold\">         Param # </span>┃\n",
              "┡━━━━━━━━━━━━━━━━━━━━━━━━━━━━━━━━━━━━━━╇━━━━━━━━━━━━━━━━━━━━━━━━━━━━━╇━━━━━━━━━━━━━━━━━┩\n",
              "│ embedding (<span style=\"color: #0087ff; text-decoration-color: #0087ff\">Embedding</span>)                │ ?                           │     <span style=\"color: #00af00; text-decoration-color: #00af00\">0</span> (unbuilt) │\n",
              "├──────────────────────────────────────┼─────────────────────────────┼─────────────────┤\n",
              "│ simple_rnn (<span style=\"color: #0087ff; text-decoration-color: #0087ff\">SimpleRNN</span>)               │ ?                           │     <span style=\"color: #00af00; text-decoration-color: #00af00\">0</span> (unbuilt) │\n",
              "├──────────────────────────────────────┼─────────────────────────────┼─────────────────┤\n",
              "│ dense (<span style=\"color: #0087ff; text-decoration-color: #0087ff\">Dense</span>)                        │ ?                           │     <span style=\"color: #00af00; text-decoration-color: #00af00\">0</span> (unbuilt) │\n",
              "└──────────────────────────────────────┴─────────────────────────────┴─────────────────┘\n",
              "</pre>\n"
            ]
          },
          "metadata": {}
        },
        {
          "output_type": "display_data",
          "data": {
            "text/plain": [
              "\u001b[1m Total params: \u001b[0m\u001b[38;5;34m0\u001b[0m (0.00 B)\n"
            ],
            "text/html": [
              "<pre style=\"white-space:pre;overflow-x:auto;line-height:normal;font-family:Menlo,'DejaVu Sans Mono',consolas,'Courier New',monospace\"><span style=\"font-weight: bold\"> Total params: </span><span style=\"color: #00af00; text-decoration-color: #00af00\">0</span> (0.00 B)\n",
              "</pre>\n"
            ]
          },
          "metadata": {}
        },
        {
          "output_type": "display_data",
          "data": {
            "text/plain": [
              "\u001b[1m Trainable params: \u001b[0m\u001b[38;5;34m0\u001b[0m (0.00 B)\n"
            ],
            "text/html": [
              "<pre style=\"white-space:pre;overflow-x:auto;line-height:normal;font-family:Menlo,'DejaVu Sans Mono',consolas,'Courier New',monospace\"><span style=\"font-weight: bold\"> Trainable params: </span><span style=\"color: #00af00; text-decoration-color: #00af00\">0</span> (0.00 B)\n",
              "</pre>\n"
            ]
          },
          "metadata": {}
        },
        {
          "output_type": "display_data",
          "data": {
            "text/plain": [
              "\u001b[1m Non-trainable params: \u001b[0m\u001b[38;5;34m0\u001b[0m (0.00 B)\n"
            ],
            "text/html": [
              "<pre style=\"white-space:pre;overflow-x:auto;line-height:normal;font-family:Menlo,'DejaVu Sans Mono',consolas,'Courier New',monospace\"><span style=\"font-weight: bold\"> Non-trainable params: </span><span style=\"color: #00af00; text-decoration-color: #00af00\">0</span> (0.00 B)\n",
              "</pre>\n"
            ]
          },
          "metadata": {}
        }
      ]
    },
    {
      "cell_type": "code",
      "source": [
        "model_rnn_1.fit(X_train_pad, y_train, epochs=10, batch_size=32, validation_split=0.2)"
      ],
      "metadata": {
        "colab": {
          "base_uri": "https://localhost:8080/"
        },
        "id": "Ly9-nr5HDjY5",
        "outputId": "5ff05a67-149c-4a71-d2df-39c81c04241e"
      },
      "execution_count": 18,
      "outputs": [
        {
          "output_type": "stream",
          "name": "stdout",
          "text": [
            "Epoch 1/10\n",
            "\u001b[1m30/30\u001b[0m \u001b[32m━━━━━━━━━━━━━━━━━━━━\u001b[0m\u001b[37m\u001b[0m \u001b[1m5s\u001b[0m 68ms/step - accuracy: 0.7364 - loss: 0.5569 - val_accuracy: 0.8661 - val_loss: 0.3490\n",
            "Epoch 2/10\n",
            "\u001b[1m30/30\u001b[0m \u001b[32m━━━━━━━━━━━━━━━━━━━━\u001b[0m\u001b[37m\u001b[0m \u001b[1m2s\u001b[0m 20ms/step - accuracy: 0.9137 - loss: 0.2449 - val_accuracy: 0.9205 - val_loss: 0.2322\n",
            "Epoch 3/10\n",
            "\u001b[1m30/30\u001b[0m \u001b[32m━━━━━━━━━━━━━━━━━━━━\u001b[0m\u001b[37m\u001b[0m \u001b[1m0s\u001b[0m 16ms/step - accuracy: 0.9662 - loss: 0.1010 - val_accuracy: 0.9247 - val_loss: 0.1841\n",
            "Epoch 4/10\n",
            "\u001b[1m30/30\u001b[0m \u001b[32m━━━━━━━━━━━━━━━━━━━━\u001b[0m\u001b[37m\u001b[0m \u001b[1m1s\u001b[0m 17ms/step - accuracy: 0.9939 - loss: 0.0356 - val_accuracy: 0.9498 - val_loss: 0.1581\n",
            "Epoch 5/10\n",
            "\u001b[1m30/30\u001b[0m \u001b[32m━━━━━━━━━━━━━━━━━━━━\u001b[0m\u001b[37m\u001b[0m \u001b[1m1s\u001b[0m 13ms/step - accuracy: 0.9967 - loss: 0.0262 - val_accuracy: 0.9289 - val_loss: 0.1745\n",
            "Epoch 6/10\n",
            "\u001b[1m30/30\u001b[0m \u001b[32m━━━━━━━━━━━━━━━━━━━━\u001b[0m\u001b[37m\u001b[0m \u001b[1m0s\u001b[0m 13ms/step - accuracy: 0.9994 - loss: 0.0150 - val_accuracy: 0.9331 - val_loss: 0.1645\n",
            "Epoch 7/10\n",
            "\u001b[1m30/30\u001b[0m \u001b[32m━━━━━━━━━━━━━━━━━━━━\u001b[0m\u001b[37m\u001b[0m \u001b[1m0s\u001b[0m 12ms/step - accuracy: 0.9978 - loss: 0.0146 - val_accuracy: 0.9540 - val_loss: 0.1522\n",
            "Epoch 8/10\n",
            "\u001b[1m30/30\u001b[0m \u001b[32m━━━━━━━━━━━━━━━━━━━━\u001b[0m\u001b[37m\u001b[0m \u001b[1m0s\u001b[0m 14ms/step - accuracy: 0.9991 - loss: 0.0082 - val_accuracy: 0.9582 - val_loss: 0.1480\n",
            "Epoch 9/10\n",
            "\u001b[1m30/30\u001b[0m \u001b[32m━━━━━━━━━━━━━━━━━━━━\u001b[0m\u001b[37m\u001b[0m \u001b[1m0s\u001b[0m 13ms/step - accuracy: 0.9999 - loss: 0.0053 - val_accuracy: 0.9582 - val_loss: 0.1525\n",
            "Epoch 10/10\n",
            "\u001b[1m30/30\u001b[0m \u001b[32m━━━━━━━━━━━━━━━━━━━━\u001b[0m\u001b[37m\u001b[0m \u001b[1m0s\u001b[0m 12ms/step - accuracy: 0.9984 - loss: 0.0058 - val_accuracy: 0.9498 - val_loss: 0.1975\n"
          ]
        },
        {
          "output_type": "execute_result",
          "data": {
            "text/plain": [
              "<keras.src.callbacks.history.History at 0x7c79000a8d90>"
            ]
          },
          "metadata": {},
          "execution_count": 18
        }
      ]
    },
    {
      "cell_type": "code",
      "source": [
        "print(\"\\nModel 2 Summary:\")\n",
        "model_rnn_2.summary()"
      ],
      "metadata": {
        "id": "1RyMch7iDfUg",
        "colab": {
          "base_uri": "https://localhost:8080/",
          "height": 267
        },
        "outputId": "62a81b55-5ba9-407f-dddc-dbb651caeeff"
      },
      "execution_count": 19,
      "outputs": [
        {
          "output_type": "stream",
          "name": "stdout",
          "text": [
            "\n",
            "Model 2 Summary:\n"
          ]
        },
        {
          "output_type": "display_data",
          "data": {
            "text/plain": [
              "\u001b[1mModel: \"sequential_1\"\u001b[0m\n"
            ],
            "text/html": [
              "<pre style=\"white-space:pre;overflow-x:auto;line-height:normal;font-family:Menlo,'DejaVu Sans Mono',consolas,'Courier New',monospace\"><span style=\"font-weight: bold\">Model: \"sequential_1\"</span>\n",
              "</pre>\n"
            ]
          },
          "metadata": {}
        },
        {
          "output_type": "display_data",
          "data": {
            "text/plain": [
              "┏━━━━━━━━━━━━━━━━━━━━━━━━━━━━━━━━━━━━━━┳━━━━━━━━━━━━━━━━━━━━━━━━━━━━━┳━━━━━━━━━━━━━━━━━┓\n",
              "┃\u001b[1m \u001b[0m\u001b[1mLayer (type)                        \u001b[0m\u001b[1m \u001b[0m┃\u001b[1m \u001b[0m\u001b[1mOutput Shape               \u001b[0m\u001b[1m \u001b[0m┃\u001b[1m \u001b[0m\u001b[1m        Param #\u001b[0m\u001b[1m \u001b[0m┃\n",
              "┡━━━━━━━━━━━━━━━━━━━━━━━━━━━━━━━━━━━━━━╇━━━━━━━━━━━━━━━━━━━━━━━━━━━━━╇━━━━━━━━━━━━━━━━━┩\n",
              "│ embedding_1 (\u001b[38;5;33mEmbedding\u001b[0m)              │ ?                           │     \u001b[38;5;34m0\u001b[0m (unbuilt) │\n",
              "├──────────────────────────────────────┼─────────────────────────────┼─────────────────┤\n",
              "│ lstm (\u001b[38;5;33mLSTM\u001b[0m)                          │ ?                           │     \u001b[38;5;34m0\u001b[0m (unbuilt) │\n",
              "├──────────────────────────────────────┼─────────────────────────────┼─────────────────┤\n",
              "│ dense_1 (\u001b[38;5;33mDense\u001b[0m)                      │ ?                           │     \u001b[38;5;34m0\u001b[0m (unbuilt) │\n",
              "└──────────────────────────────────────┴─────────────────────────────┴─────────────────┘\n"
            ],
            "text/html": [
              "<pre style=\"white-space:pre;overflow-x:auto;line-height:normal;font-family:Menlo,'DejaVu Sans Mono',consolas,'Courier New',monospace\">┏━━━━━━━━━━━━━━━━━━━━━━━━━━━━━━━━━━━━━━┳━━━━━━━━━━━━━━━━━━━━━━━━━━━━━┳━━━━━━━━━━━━━━━━━┓\n",
              "┃<span style=\"font-weight: bold\"> Layer (type)                         </span>┃<span style=\"font-weight: bold\"> Output Shape                </span>┃<span style=\"font-weight: bold\">         Param # </span>┃\n",
              "┡━━━━━━━━━━━━━━━━━━━━━━━━━━━━━━━━━━━━━━╇━━━━━━━━━━━━━━━━━━━━━━━━━━━━━╇━━━━━━━━━━━━━━━━━┩\n",
              "│ embedding_1 (<span style=\"color: #0087ff; text-decoration-color: #0087ff\">Embedding</span>)              │ ?                           │     <span style=\"color: #00af00; text-decoration-color: #00af00\">0</span> (unbuilt) │\n",
              "├──────────────────────────────────────┼─────────────────────────────┼─────────────────┤\n",
              "│ lstm (<span style=\"color: #0087ff; text-decoration-color: #0087ff\">LSTM</span>)                          │ ?                           │     <span style=\"color: #00af00; text-decoration-color: #00af00\">0</span> (unbuilt) │\n",
              "├──────────────────────────────────────┼─────────────────────────────┼─────────────────┤\n",
              "│ dense_1 (<span style=\"color: #0087ff; text-decoration-color: #0087ff\">Dense</span>)                      │ ?                           │     <span style=\"color: #00af00; text-decoration-color: #00af00\">0</span> (unbuilt) │\n",
              "└──────────────────────────────────────┴─────────────────────────────┴─────────────────┘\n",
              "</pre>\n"
            ]
          },
          "metadata": {}
        },
        {
          "output_type": "display_data",
          "data": {
            "text/plain": [
              "\u001b[1m Total params: \u001b[0m\u001b[38;5;34m0\u001b[0m (0.00 B)\n"
            ],
            "text/html": [
              "<pre style=\"white-space:pre;overflow-x:auto;line-height:normal;font-family:Menlo,'DejaVu Sans Mono',consolas,'Courier New',monospace\"><span style=\"font-weight: bold\"> Total params: </span><span style=\"color: #00af00; text-decoration-color: #00af00\">0</span> (0.00 B)\n",
              "</pre>\n"
            ]
          },
          "metadata": {}
        },
        {
          "output_type": "display_data",
          "data": {
            "text/plain": [
              "\u001b[1m Trainable params: \u001b[0m\u001b[38;5;34m0\u001b[0m (0.00 B)\n"
            ],
            "text/html": [
              "<pre style=\"white-space:pre;overflow-x:auto;line-height:normal;font-family:Menlo,'DejaVu Sans Mono',consolas,'Courier New',monospace\"><span style=\"font-weight: bold\"> Trainable params: </span><span style=\"color: #00af00; text-decoration-color: #00af00\">0</span> (0.00 B)\n",
              "</pre>\n"
            ]
          },
          "metadata": {}
        },
        {
          "output_type": "display_data",
          "data": {
            "text/plain": [
              "\u001b[1m Non-trainable params: \u001b[0m\u001b[38;5;34m0\u001b[0m (0.00 B)\n"
            ],
            "text/html": [
              "<pre style=\"white-space:pre;overflow-x:auto;line-height:normal;font-family:Menlo,'DejaVu Sans Mono',consolas,'Courier New',monospace\"><span style=\"font-weight: bold\"> Non-trainable params: </span><span style=\"color: #00af00; text-decoration-color: #00af00\">0</span> (0.00 B)\n",
              "</pre>\n"
            ]
          },
          "metadata": {}
        }
      ]
    },
    {
      "cell_type": "code",
      "source": [
        "model_rnn_2.fit(X_train_pad, y_train, epochs=10, batch_size=32, validation_split=0.2)"
      ],
      "metadata": {
        "id": "M6TdQodGDk5A",
        "colab": {
          "base_uri": "https://localhost:8080/"
        },
        "outputId": "a49ea917-8a52-4ac3-c7c5-ed44bdde6a65"
      },
      "execution_count": 20,
      "outputs": [
        {
          "output_type": "stream",
          "name": "stdout",
          "text": [
            "Epoch 1/10\n",
            "\u001b[1m30/30\u001b[0m \u001b[32m━━━━━━━━━━━━━━━━━━━━\u001b[0m\u001b[37m\u001b[0m \u001b[1m7s\u001b[0m 46ms/step - accuracy: 0.5936 - loss: 0.6036 - val_accuracy: 0.8703 - val_loss: 0.3485\n",
            "Epoch 2/10\n",
            "\u001b[1m30/30\u001b[0m \u001b[32m━━━━━━━━━━━━━━━━━━━━\u001b[0m\u001b[37m\u001b[0m \u001b[1m5s\u001b[0m 13ms/step - accuracy: 0.8836 - loss: 0.2910 - val_accuracy: 0.9498 - val_loss: 0.1784\n",
            "Epoch 3/10\n",
            "\u001b[1m30/30\u001b[0m \u001b[32m━━━━━━━━━━━━━━━━━━━━\u001b[0m\u001b[37m\u001b[0m \u001b[1m1s\u001b[0m 10ms/step - accuracy: 0.9671 - loss: 0.1061 - val_accuracy: 0.9498 - val_loss: 0.1397\n",
            "Epoch 4/10\n",
            "\u001b[1m30/30\u001b[0m \u001b[32m━━━━━━━━━━━━━━━━━━━━\u001b[0m\u001b[37m\u001b[0m \u001b[1m0s\u001b[0m 11ms/step - accuracy: 0.9846 - loss: 0.0513 - val_accuracy: 0.9540 - val_loss: 0.1400\n",
            "Epoch 5/10\n",
            "\u001b[1m30/30\u001b[0m \u001b[32m━━━━━━━━━━━━━━━━━━━━\u001b[0m\u001b[37m\u001b[0m \u001b[1m1s\u001b[0m 9ms/step - accuracy: 0.9968 - loss: 0.0172 - val_accuracy: 0.9498 - val_loss: 0.1608\n",
            "Epoch 6/10\n",
            "\u001b[1m30/30\u001b[0m \u001b[32m━━━━━━━━━━━━━━━━━━━━\u001b[0m\u001b[37m\u001b[0m \u001b[1m0s\u001b[0m 10ms/step - accuracy: 0.9968 - loss: 0.0131 - val_accuracy: 0.9582 - val_loss: 0.1563\n",
            "Epoch 7/10\n",
            "\u001b[1m30/30\u001b[0m \u001b[32m━━━━━━━━━━━━━━━━━━━━\u001b[0m\u001b[37m\u001b[0m \u001b[1m0s\u001b[0m 9ms/step - accuracy: 0.9962 - loss: 0.0112 - val_accuracy: 0.9498 - val_loss: 0.1864\n",
            "Epoch 8/10\n",
            "\u001b[1m30/30\u001b[0m \u001b[32m━━━━━━━━━━━━━━━━━━━━\u001b[0m\u001b[37m\u001b[0m \u001b[1m0s\u001b[0m 8ms/step - accuracy: 0.9991 - loss: 0.0055 - val_accuracy: 0.9456 - val_loss: 0.1691\n",
            "Epoch 9/10\n",
            "\u001b[1m30/30\u001b[0m \u001b[32m━━━━━━━━━━━━━━━━━━━━\u001b[0m\u001b[37m\u001b[0m \u001b[1m0s\u001b[0m 8ms/step - accuracy: 0.9994 - loss: 0.0025 - val_accuracy: 0.9540 - val_loss: 0.1668\n",
            "Epoch 10/10\n",
            "\u001b[1m30/30\u001b[0m \u001b[32m━━━━━━━━━━━━━━━━━━━━\u001b[0m\u001b[37m\u001b[0m \u001b[1m0s\u001b[0m 9ms/step - accuracy: 1.0000 - loss: 0.0019 - val_accuracy: 0.9582 - val_loss: 0.1816\n"
          ]
        },
        {
          "output_type": "execute_result",
          "data": {
            "text/plain": [
              "<keras.src.callbacks.history.History at 0x7c789c1df4c0>"
            ]
          },
          "metadata": {},
          "execution_count": 20
        }
      ]
    },
    {
      "cell_type": "code",
      "source": [
        "print(\"\\nModel 3 Summary:\")\n",
        "model_rnn_3.summary()"
      ],
      "metadata": {
        "id": "fpRr8tk_Dc4D",
        "colab": {
          "base_uri": "https://localhost:8080/",
          "height": 267
        },
        "outputId": "1b13b459-0bb0-4dc5-c2a8-46a3cd4b9dc6"
      },
      "execution_count": 21,
      "outputs": [
        {
          "output_type": "stream",
          "name": "stdout",
          "text": [
            "\n",
            "Model 3 Summary:\n"
          ]
        },
        {
          "output_type": "display_data",
          "data": {
            "text/plain": [
              "\u001b[1mModel: \"sequential_2\"\u001b[0m\n"
            ],
            "text/html": [
              "<pre style=\"white-space:pre;overflow-x:auto;line-height:normal;font-family:Menlo,'DejaVu Sans Mono',consolas,'Courier New',monospace\"><span style=\"font-weight: bold\">Model: \"sequential_2\"</span>\n",
              "</pre>\n"
            ]
          },
          "metadata": {}
        },
        {
          "output_type": "display_data",
          "data": {
            "text/plain": [
              "┏━━━━━━━━━━━━━━━━━━━━━━━━━━━━━━━━━━━━━━┳━━━━━━━━━━━━━━━━━━━━━━━━━━━━━┳━━━━━━━━━━━━━━━━━┓\n",
              "┃\u001b[1m \u001b[0m\u001b[1mLayer (type)                        \u001b[0m\u001b[1m \u001b[0m┃\u001b[1m \u001b[0m\u001b[1mOutput Shape               \u001b[0m\u001b[1m \u001b[0m┃\u001b[1m \u001b[0m\u001b[1m        Param #\u001b[0m\u001b[1m \u001b[0m┃\n",
              "┡━━━━━━━━━━━━━━━━━━━━━━━━━━━━━━━━━━━━━━╇━━━━━━━━━━━━━━━━━━━━━━━━━━━━━╇━━━━━━━━━━━━━━━━━┩\n",
              "│ embedding_2 (\u001b[38;5;33mEmbedding\u001b[0m)              │ ?                           │     \u001b[38;5;34m0\u001b[0m (unbuilt) │\n",
              "├──────────────────────────────────────┼─────────────────────────────┼─────────────────┤\n",
              "│ gru (\u001b[38;5;33mGRU\u001b[0m)                            │ ?                           │     \u001b[38;5;34m0\u001b[0m (unbuilt) │\n",
              "├──────────────────────────────────────┼─────────────────────────────┼─────────────────┤\n",
              "│ dense_2 (\u001b[38;5;33mDense\u001b[0m)                      │ ?                           │     \u001b[38;5;34m0\u001b[0m (unbuilt) │\n",
              "└──────────────────────────────────────┴─────────────────────────────┴─────────────────┘\n"
            ],
            "text/html": [
              "<pre style=\"white-space:pre;overflow-x:auto;line-height:normal;font-family:Menlo,'DejaVu Sans Mono',consolas,'Courier New',monospace\">┏━━━━━━━━━━━━━━━━━━━━━━━━━━━━━━━━━━━━━━┳━━━━━━━━━━━━━━━━━━━━━━━━━━━━━┳━━━━━━━━━━━━━━━━━┓\n",
              "┃<span style=\"font-weight: bold\"> Layer (type)                         </span>┃<span style=\"font-weight: bold\"> Output Shape                </span>┃<span style=\"font-weight: bold\">         Param # </span>┃\n",
              "┡━━━━━━━━━━━━━━━━━━━━━━━━━━━━━━━━━━━━━━╇━━━━━━━━━━━━━━━━━━━━━━━━━━━━━╇━━━━━━━━━━━━━━━━━┩\n",
              "│ embedding_2 (<span style=\"color: #0087ff; text-decoration-color: #0087ff\">Embedding</span>)              │ ?                           │     <span style=\"color: #00af00; text-decoration-color: #00af00\">0</span> (unbuilt) │\n",
              "├──────────────────────────────────────┼─────────────────────────────┼─────────────────┤\n",
              "│ gru (<span style=\"color: #0087ff; text-decoration-color: #0087ff\">GRU</span>)                            │ ?                           │     <span style=\"color: #00af00; text-decoration-color: #00af00\">0</span> (unbuilt) │\n",
              "├──────────────────────────────────────┼─────────────────────────────┼─────────────────┤\n",
              "│ dense_2 (<span style=\"color: #0087ff; text-decoration-color: #0087ff\">Dense</span>)                      │ ?                           │     <span style=\"color: #00af00; text-decoration-color: #00af00\">0</span> (unbuilt) │\n",
              "└──────────────────────────────────────┴─────────────────────────────┴─────────────────┘\n",
              "</pre>\n"
            ]
          },
          "metadata": {}
        },
        {
          "output_type": "display_data",
          "data": {
            "text/plain": [
              "\u001b[1m Total params: \u001b[0m\u001b[38;5;34m0\u001b[0m (0.00 B)\n"
            ],
            "text/html": [
              "<pre style=\"white-space:pre;overflow-x:auto;line-height:normal;font-family:Menlo,'DejaVu Sans Mono',consolas,'Courier New',monospace\"><span style=\"font-weight: bold\"> Total params: </span><span style=\"color: #00af00; text-decoration-color: #00af00\">0</span> (0.00 B)\n",
              "</pre>\n"
            ]
          },
          "metadata": {}
        },
        {
          "output_type": "display_data",
          "data": {
            "text/plain": [
              "\u001b[1m Trainable params: \u001b[0m\u001b[38;5;34m0\u001b[0m (0.00 B)\n"
            ],
            "text/html": [
              "<pre style=\"white-space:pre;overflow-x:auto;line-height:normal;font-family:Menlo,'DejaVu Sans Mono',consolas,'Courier New',monospace\"><span style=\"font-weight: bold\"> Trainable params: </span><span style=\"color: #00af00; text-decoration-color: #00af00\">0</span> (0.00 B)\n",
              "</pre>\n"
            ]
          },
          "metadata": {}
        },
        {
          "output_type": "display_data",
          "data": {
            "text/plain": [
              "\u001b[1m Non-trainable params: \u001b[0m\u001b[38;5;34m0\u001b[0m (0.00 B)\n"
            ],
            "text/html": [
              "<pre style=\"white-space:pre;overflow-x:auto;line-height:normal;font-family:Menlo,'DejaVu Sans Mono',consolas,'Courier New',monospace\"><span style=\"font-weight: bold\"> Non-trainable params: </span><span style=\"color: #00af00; text-decoration-color: #00af00\">0</span> (0.00 B)\n",
              "</pre>\n"
            ]
          },
          "metadata": {}
        }
      ]
    },
    {
      "cell_type": "code",
      "source": [
        "model_rnn_3.fit(X_train_pad, y_train, epochs=10, batch_size=32, validation_split=0.2)"
      ],
      "metadata": {
        "id": "mVmHKDqNDmQR",
        "colab": {
          "base_uri": "https://localhost:8080/"
        },
        "outputId": "387457e4-c7f6-4fc7-e719-2b657dbd60ce"
      },
      "execution_count": 22,
      "outputs": [
        {
          "output_type": "stream",
          "name": "stdout",
          "text": [
            "Epoch 1/10\n",
            "\u001b[1m30/30\u001b[0m \u001b[32m━━━━━━━━━━━━━━━━━━━━\u001b[0m\u001b[37m\u001b[0m \u001b[1m2s\u001b[0m 25ms/step - accuracy: 0.6843 - loss: 0.6190 - val_accuracy: 0.8619 - val_loss: 0.3603\n",
            "Epoch 2/10\n",
            "\u001b[1m30/30\u001b[0m \u001b[32m━━━━━━━━━━━━━━━━━━━━\u001b[0m\u001b[37m\u001b[0m \u001b[1m0s\u001b[0m 9ms/step - accuracy: 0.9495 - loss: 0.1964 - val_accuracy: 0.9247 - val_loss: 0.1892\n",
            "Epoch 3/10\n",
            "\u001b[1m30/30\u001b[0m \u001b[32m━━━━━━━━━━━━━━━━━━━━\u001b[0m\u001b[37m\u001b[0m \u001b[1m0s\u001b[0m 10ms/step - accuracy: 0.9882 - loss: 0.0466 - val_accuracy: 0.9540 - val_loss: 0.1457\n",
            "Epoch 4/10\n",
            "\u001b[1m30/30\u001b[0m \u001b[32m━━━━━━━━━━━━━━━━━━━━\u001b[0m\u001b[37m\u001b[0m \u001b[1m1s\u001b[0m 9ms/step - accuracy: 0.9951 - loss: 0.0218 - val_accuracy: 0.9540 - val_loss: 0.1451\n",
            "Epoch 5/10\n",
            "\u001b[1m30/30\u001b[0m \u001b[32m━━━━━━━━━━━━━━━━━━━━\u001b[0m\u001b[37m\u001b[0m \u001b[1m0s\u001b[0m 9ms/step - accuracy: 0.9986 - loss: 0.0085 - val_accuracy: 0.9498 - val_loss: 0.1451\n",
            "Epoch 6/10\n",
            "\u001b[1m30/30\u001b[0m \u001b[32m━━━━━━━━━━━━━━━━━━━━\u001b[0m\u001b[37m\u001b[0m \u001b[1m0s\u001b[0m 9ms/step - accuracy: 0.9992 - loss: 0.0035 - val_accuracy: 0.9498 - val_loss: 0.1539\n",
            "Epoch 7/10\n",
            "\u001b[1m30/30\u001b[0m \u001b[32m━━━━━━━━━━━━━━━━━━━━\u001b[0m\u001b[37m\u001b[0m \u001b[1m0s\u001b[0m 9ms/step - accuracy: 1.0000 - loss: 0.0021 - val_accuracy: 0.9498 - val_loss: 0.1611\n",
            "Epoch 8/10\n",
            "\u001b[1m30/30\u001b[0m \u001b[32m━━━━━━━━━━━━━━━━━━━━\u001b[0m\u001b[37m\u001b[0m \u001b[1m0s\u001b[0m 10ms/step - accuracy: 1.0000 - loss: 8.4355e-04 - val_accuracy: 0.9498 - val_loss: 0.1756\n",
            "Epoch 9/10\n",
            "\u001b[1m30/30\u001b[0m \u001b[32m━━━━━━━━━━━━━━━━━━━━\u001b[0m\u001b[37m\u001b[0m \u001b[1m1s\u001b[0m 12ms/step - accuracy: 1.0000 - loss: 6.0006e-04 - val_accuracy: 0.9498 - val_loss: 0.1827\n",
            "Epoch 10/10\n",
            "\u001b[1m30/30\u001b[0m \u001b[32m━━━━━━━━━━━━━━━━━━━━\u001b[0m\u001b[37m\u001b[0m \u001b[1m1s\u001b[0m 12ms/step - accuracy: 1.0000 - loss: 3.7671e-04 - val_accuracy: 0.9540 - val_loss: 0.1894\n"
          ]
        },
        {
          "output_type": "execute_result",
          "data": {
            "text/plain": [
              "<keras.src.callbacks.history.History at 0x7c78950d36a0>"
            ]
          },
          "metadata": {},
          "execution_count": 22
        }
      ]
    },
    {
      "cell_type": "code",
      "source": [
        "y_pred_1 = (model_rnn_1.predict(X_test_pad) > 0.5).astype(int)\n",
        "y_pred_2 = (model_rnn_2.predict(X_test_pad) > 0.5).astype(int)\n",
        "y_pred_3 = (model_rnn_3.predict(X_test_pad) > 0.5).astype(int)"
      ],
      "metadata": {
        "id": "KoUax8R5Ds4e",
        "colab": {
          "base_uri": "https://localhost:8080/"
        },
        "outputId": "861a5dd8-2e97-474e-9c81-4857079e7ffd"
      },
      "execution_count": 23,
      "outputs": [
        {
          "output_type": "stream",
          "name": "stdout",
          "text": [
            "\u001b[1m10/10\u001b[0m \u001b[32m━━━━━━━━━━━━━━━━━━━━\u001b[0m\u001b[37m\u001b[0m \u001b[1m1s\u001b[0m 42ms/step\n",
            "\u001b[1m10/10\u001b[0m \u001b[32m━━━━━━━━━━━━━━━━━━━━\u001b[0m\u001b[37m\u001b[0m \u001b[1m0s\u001b[0m 14ms/step\n",
            "\u001b[1m10/10\u001b[0m \u001b[32m━━━━━━━━━━━━━━━━━━━━\u001b[0m\u001b[37m\u001b[0m \u001b[1m0s\u001b[0m 13ms/step\n"
          ]
        }
      ]
    },
    {
      "cell_type": "code",
      "source": [
        "precision_1 = precision_score(y_test, y_pred_1)\n",
        "recall_1 = recall_score(y_test, y_pred_1)\n",
        "f1_1 = f1_score(y_test, y_pred_1)"
      ],
      "metadata": {
        "id": "ktwajrUBDupQ"
      },
      "execution_count": 24,
      "outputs": []
    },
    {
      "cell_type": "code",
      "source": [
        "precision_2 = precision_score(y_test, y_pred_2)\n",
        "recall_2 = recall_score(y_test, y_pred_2)\n",
        "f1_2 = f1_score(y_test, y_pred_2)"
      ],
      "metadata": {
        "id": "WnvHlb5zDwJ1"
      },
      "execution_count": 25,
      "outputs": []
    },
    {
      "cell_type": "code",
      "source": [
        "precision_3 = precision_score(y_test, y_pred_3)\n",
        "recall_3 = recall_score(y_test, y_pred_3)\n",
        "f1_3 = f1_score(y_test, y_pred_3)"
      ],
      "metadata": {
        "id": "UxhPysJADw2X"
      },
      "execution_count": 26,
      "outputs": []
    },
    {
      "cell_type": "code",
      "source": [
        "print(\"\\nModel 1 - SimpleRNN\")\n",
        "print(\"Precision:\", precision_1)\n",
        "print(\"Recall:\", recall_1)\n",
        "print(\"F1-score:\", f1_1)"
      ],
      "metadata": {
        "id": "t4KOdWOADzRk",
        "colab": {
          "base_uri": "https://localhost:8080/"
        },
        "outputId": "7807eb6c-6135-406e-c0dc-577f476ad8dd"
      },
      "execution_count": 27,
      "outputs": [
        {
          "output_type": "stream",
          "name": "stdout",
          "text": [
            "\n",
            "Model 1 - SimpleRNN\n",
            "Precision: 0.9928571428571429\n",
            "Recall: 0.896774193548387\n",
            "F1-score: 0.9423728813559321\n"
          ]
        }
      ]
    },
    {
      "cell_type": "code",
      "source": [
        "print(\"\\nModel 2 - LSTM\")\n",
        "print(\"Precision:\", precision_2)\n",
        "print(\"Recall:\", recall_2)\n",
        "print(\"F1-score:\", f1_2)"
      ],
      "metadata": {
        "id": "8NMANwk3D0r8",
        "colab": {
          "base_uri": "https://localhost:8080/"
        },
        "outputId": "2ee0c007-037a-4260-ea80-bd9deb4b81b8"
      },
      "execution_count": 28,
      "outputs": [
        {
          "output_type": "stream",
          "name": "stdout",
          "text": [
            "\n",
            "Model 2 - LSTM\n",
            "Precision: 0.9932432432432432\n",
            "Recall: 0.9483870967741935\n",
            "F1-score: 0.9702970297029702\n"
          ]
        }
      ]
    },
    {
      "cell_type": "code",
      "source": [
        "print(\"\\nModel 3 - GRU\")\n",
        "print(\"Precision:\", precision_3)\n",
        "print(\"Recall:\", recall_3)\n",
        "print(\"F1-score:\", f1_3)"
      ],
      "metadata": {
        "id": "Gfkv7CSrCHTl",
        "colab": {
          "base_uri": "https://localhost:8080/"
        },
        "outputId": "fcbfd541-e8ca-42f6-a794-0d149f222413"
      },
      "execution_count": 29,
      "outputs": [
        {
          "output_type": "stream",
          "name": "stdout",
          "text": [
            "\n",
            "Model 3 - GRU\n",
            "Precision: 0.9864864864864865\n",
            "Recall: 0.9419354838709677\n",
            "F1-score: 0.9636963696369637\n"
          ]
        }
      ]
    },
    {
      "cell_type": "code",
      "source": [
        "from sklearn.metrics import accuracy_score\n",
        "\n",
        "accuracy_1 = accuracy_score(y_test, y_pred_1)\n",
        "accuracy_2 = accuracy_score(y_test, y_pred_2)\n",
        "accuracy_3 = accuracy_score(y_test, y_pred_3)\n",
        "\n",
        "print(\"\\nModel 1 - SimpleRNN\")\n",
        "print(\"Accuracy:\", accuracy_1)\n",
        "\n",
        "print(\"\\nModel 2 - LSTM\")\n",
        "print(\"Accuracy:\", accuracy_2)\n",
        "\n",
        "print(\"\\nModel 3 - GRU\")\n",
        "print(\"Accuracy:\", accuracy_3)\n"
      ],
      "metadata": {
        "id": "tACC8cNfEZcj",
        "colab": {
          "base_uri": "https://localhost:8080/"
        },
        "outputId": "15921a91-43d5-4a7b-e003-af416966d14e"
      },
      "execution_count": 30,
      "outputs": [
        {
          "output_type": "stream",
          "name": "stdout",
          "text": [
            "\n",
            "Model 1 - SimpleRNN\n",
            "Accuracy: 0.9431438127090301\n",
            "\n",
            "Model 2 - LSTM\n",
            "Accuracy: 0.9698996655518395\n",
            "\n",
            "Model 3 - GRU\n",
            "Accuracy: 0.9632107023411371\n"
          ]
        }
      ]
    },
    {
      "cell_type": "code",
      "source": [
        "from tabulate import tabulate\n",
        "\n",
        "table_data = [\n",
        "    [\"Model\", \"Accuracy\", \"Precision\", \"Recall\", \"F1-score\"],\n",
        "    [\"SimpleRNN (32 units)\", accuracy_1, precision_1, recall_1, f1_1],\n",
        "    [\"LSTM (64 units)\", accuracy_2, precision_2, recall_2, f1_2],\n",
        "    [\"GRU (128 units)\", accuracy_3, precision_3, recall_3, f1_3],\n",
        "]\n",
        "\n",
        "print(tabulate(table_data, headers=\"firstrow\", tablefmt=\"grid\"))\n"
      ],
      "metadata": {
        "colab": {
          "base_uri": "https://localhost:8080/"
        },
        "id": "Y_d4c4IlZQ65",
        "outputId": "16b0859f-c4c6-4c17-a33a-dfa7bfef048e"
      },
      "execution_count": 31,
      "outputs": [
        {
          "output_type": "stream",
          "name": "stdout",
          "text": [
            "+----------------------+------------+-------------+----------+------------+\n",
            "| Model                |   Accuracy |   Precision |   Recall |   F1-score |\n",
            "+======================+============+=============+==========+============+\n",
            "| SimpleRNN (32 units) |   0.943144 |    0.992857 | 0.896774 |   0.942373 |\n",
            "+----------------------+------------+-------------+----------+------------+\n",
            "| LSTM (64 units)      |   0.9699   |    0.993243 | 0.948387 |   0.970297 |\n",
            "+----------------------+------------+-------------+----------+------------+\n",
            "| GRU (128 units)      |   0.963211 |    0.986486 | 0.941935 |   0.963696 |\n",
            "+----------------------+------------+-------------+----------+------------+\n"
          ]
        }
      ]
    },
    {
      "cell_type": "markdown",
      "source": [
        "Previous CNN results....."
      ],
      "metadata": {
        "id": "QopeGPOTZexI"
      }
    },
    {
      "cell_type": "markdown",
      "source": [
        "![image.png](data:image/png;base64,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)"
      ],
      "metadata": {
        "id": "alvDsxp4dOKU"
      }
    },
    {
      "cell_type": "code",
      "source": [
        "from tensorflow.keras.models import Sequential\n",
        "from tensorflow.keras.layers import Embedding, Conv1D, MaxPooling1D, Flatten, Dense\n",
        "from sklearn.metrics import accuracy_score"
      ],
      "metadata": {
        "id": "I138foG5a6At"
      },
      "execution_count": 32,
      "outputs": []
    },
    {
      "cell_type": "code",
      "source": [
        "model1 = Sequential()\n",
        "model1.add(Embedding(max_words, 128, input_length=max_length))\n",
        "model1.add(Conv1D(filters=32, kernel_size=3, activation='relu'))\n",
        "model1.add(MaxPooling1D(pool_size=2))\n",
        "model1.add(Flatten())\n",
        "model1.add(Dense(1, activation='sigmoid'))\n",
        "model1.compile(optimizer='adam', loss='binary_crossentropy', metrics=['accuracy'])\n",
        "model1.summary()\n",
        "model1.fit(X_train_pad, y_train, epochs=10, batch_size=32, validation_split=0.2)\n",
        "y_pred_model1 = (model1.predict(X_test_pad) > 0.5).astype(int)\n",
        "precision_model1 = precision_score(y_test, y_pred_model1)\n",
        "recall_model1 = recall_score(y_test, y_pred_model1)\n",
        "f1_model1 = f1_score(y_test, y_pred_model1)\n",
        "accuracy_model1 = accuracy_score(y_test, y_pred_model1)\n",
        "print(\"Model 1 - Accuracy:\", accuracy_model1)\n",
        "print(\"Model 1 - Precision:\", precision_model1)\n",
        "print(\"Model 1 - Recall:\", recall_model1)\n",
        "print(\"Model 1 - F1-Score:\", f1_model1)"
      ],
      "metadata": {
        "colab": {
          "base_uri": "https://localhost:8080/",
          "height": 780
        },
        "id": "i9UvnbJsa6k5",
        "outputId": "f8e7fd79-4e70-4dd7-97ae-339adcba7546"
      },
      "execution_count": 41,
      "outputs": [
        {
          "output_type": "stream",
          "name": "stderr",
          "text": [
            "/usr/local/lib/python3.10/dist-packages/keras/src/layers/core/embedding.py:90: UserWarning: Argument `input_length` is deprecated. Just remove it.\n",
            "  warnings.warn(\n"
          ]
        },
        {
          "output_type": "display_data",
          "data": {
            "text/plain": [
              "\u001b[1mModel: \"sequential_9\"\u001b[0m\n"
            ],
            "text/html": [
              "<pre style=\"white-space:pre;overflow-x:auto;line-height:normal;font-family:Menlo,'DejaVu Sans Mono',consolas,'Courier New',monospace\"><span style=\"font-weight: bold\">Model: \"sequential_9\"</span>\n",
              "</pre>\n"
            ]
          },
          "metadata": {}
        },
        {
          "output_type": "display_data",
          "data": {
            "text/plain": [
              "┏━━━━━━━━━━━━━━━━━━━━━━━━━━━━━━━━━━━━━━┳━━━━━━━━━━━━━━━━━━━━━━━━━━━━━┳━━━━━━━━━━━━━━━━━┓\n",
              "┃\u001b[1m \u001b[0m\u001b[1mLayer (type)                        \u001b[0m\u001b[1m \u001b[0m┃\u001b[1m \u001b[0m\u001b[1mOutput Shape               \u001b[0m\u001b[1m \u001b[0m┃\u001b[1m \u001b[0m\u001b[1m        Param #\u001b[0m\u001b[1m \u001b[0m┃\n",
              "┡━━━━━━━━━━━━━━━━━━━━━━━━━━━━━━━━━━━━━━╇━━━━━━━━━━━━━━━━━━━━━━━━━━━━━╇━━━━━━━━━━━━━━━━━┩\n",
              "│ embedding_9 (\u001b[38;5;33mEmbedding\u001b[0m)              │ ?                           │     \u001b[38;5;34m0\u001b[0m (unbuilt) │\n",
              "├──────────────────────────────────────┼─────────────────────────────┼─────────────────┤\n",
              "│ conv1d_8 (\u001b[38;5;33mConv1D\u001b[0m)                    │ ?                           │     \u001b[38;5;34m0\u001b[0m (unbuilt) │\n",
              "├──────────────────────────────────────┼─────────────────────────────┼─────────────────┤\n",
              "│ max_pooling1d_6 (\u001b[38;5;33mMaxPooling1D\u001b[0m)       │ ?                           │     \u001b[38;5;34m0\u001b[0m (unbuilt) │\n",
              "├──────────────────────────────────────┼─────────────────────────────┼─────────────────┤\n",
              "│ flatten_6 (\u001b[38;5;33mFlatten\u001b[0m)                  │ ?                           │     \u001b[38;5;34m0\u001b[0m (unbuilt) │\n",
              "├──────────────────────────────────────┼─────────────────────────────┼─────────────────┤\n",
              "│ dense_9 (\u001b[38;5;33mDense\u001b[0m)                      │ ?                           │     \u001b[38;5;34m0\u001b[0m (unbuilt) │\n",
              "└──────────────────────────────────────┴─────────────────────────────┴─────────────────┘\n"
            ],
            "text/html": [
              "<pre style=\"white-space:pre;overflow-x:auto;line-height:normal;font-family:Menlo,'DejaVu Sans Mono',consolas,'Courier New',monospace\">┏━━━━━━━━━━━━━━━━━━━━━━━━━━━━━━━━━━━━━━┳━━━━━━━━━━━━━━━━━━━━━━━━━━━━━┳━━━━━━━━━━━━━━━━━┓\n",
              "┃<span style=\"font-weight: bold\"> Layer (type)                         </span>┃<span style=\"font-weight: bold\"> Output Shape                </span>┃<span style=\"font-weight: bold\">         Param # </span>┃\n",
              "┡━━━━━━━━━━━━━━━━━━━━━━━━━━━━━━━━━━━━━━╇━━━━━━━━━━━━━━━━━━━━━━━━━━━━━╇━━━━━━━━━━━━━━━━━┩\n",
              "│ embedding_9 (<span style=\"color: #0087ff; text-decoration-color: #0087ff\">Embedding</span>)              │ ?                           │     <span style=\"color: #00af00; text-decoration-color: #00af00\">0</span> (unbuilt) │\n",
              "├──────────────────────────────────────┼─────────────────────────────┼─────────────────┤\n",
              "│ conv1d_8 (<span style=\"color: #0087ff; text-decoration-color: #0087ff\">Conv1D</span>)                    │ ?                           │     <span style=\"color: #00af00; text-decoration-color: #00af00\">0</span> (unbuilt) │\n",
              "├──────────────────────────────────────┼─────────────────────────────┼─────────────────┤\n",
              "│ max_pooling1d_6 (<span style=\"color: #0087ff; text-decoration-color: #0087ff\">MaxPooling1D</span>)       │ ?                           │     <span style=\"color: #00af00; text-decoration-color: #00af00\">0</span> (unbuilt) │\n",
              "├──────────────────────────────────────┼─────────────────────────────┼─────────────────┤\n",
              "│ flatten_6 (<span style=\"color: #0087ff; text-decoration-color: #0087ff\">Flatten</span>)                  │ ?                           │     <span style=\"color: #00af00; text-decoration-color: #00af00\">0</span> (unbuilt) │\n",
              "├──────────────────────────────────────┼─────────────────────────────┼─────────────────┤\n",
              "│ dense_9 (<span style=\"color: #0087ff; text-decoration-color: #0087ff\">Dense</span>)                      │ ?                           │     <span style=\"color: #00af00; text-decoration-color: #00af00\">0</span> (unbuilt) │\n",
              "└──────────────────────────────────────┴─────────────────────────────┴─────────────────┘\n",
              "</pre>\n"
            ]
          },
          "metadata": {}
        },
        {
          "output_type": "display_data",
          "data": {
            "text/plain": [
              "\u001b[1m Total params: \u001b[0m\u001b[38;5;34m0\u001b[0m (0.00 B)\n"
            ],
            "text/html": [
              "<pre style=\"white-space:pre;overflow-x:auto;line-height:normal;font-family:Menlo,'DejaVu Sans Mono',consolas,'Courier New',monospace\"><span style=\"font-weight: bold\"> Total params: </span><span style=\"color: #00af00; text-decoration-color: #00af00\">0</span> (0.00 B)\n",
              "</pre>\n"
            ]
          },
          "metadata": {}
        },
        {
          "output_type": "display_data",
          "data": {
            "text/plain": [
              "\u001b[1m Trainable params: \u001b[0m\u001b[38;5;34m0\u001b[0m (0.00 B)\n"
            ],
            "text/html": [
              "<pre style=\"white-space:pre;overflow-x:auto;line-height:normal;font-family:Menlo,'DejaVu Sans Mono',consolas,'Courier New',monospace\"><span style=\"font-weight: bold\"> Trainable params: </span><span style=\"color: #00af00; text-decoration-color: #00af00\">0</span> (0.00 B)\n",
              "</pre>\n"
            ]
          },
          "metadata": {}
        },
        {
          "output_type": "display_data",
          "data": {
            "text/plain": [
              "\u001b[1m Non-trainable params: \u001b[0m\u001b[38;5;34m0\u001b[0m (0.00 B)\n"
            ],
            "text/html": [
              "<pre style=\"white-space:pre;overflow-x:auto;line-height:normal;font-family:Menlo,'DejaVu Sans Mono',consolas,'Courier New',monospace\"><span style=\"font-weight: bold\"> Non-trainable params: </span><span style=\"color: #00af00; text-decoration-color: #00af00\">0</span> (0.00 B)\n",
              "</pre>\n"
            ]
          },
          "metadata": {}
        },
        {
          "output_type": "stream",
          "name": "stdout",
          "text": [
            "Epoch 1/10\n",
            "\u001b[1m30/30\u001b[0m \u001b[32m━━━━━━━━━━━━━━━━━━━━\u001b[0m\u001b[37m\u001b[0m \u001b[1m3s\u001b[0m 51ms/step - accuracy: 0.6352 - loss: 0.6713 - val_accuracy: 0.8661 - val_loss: 0.5347\n",
            "Epoch 2/10\n",
            "\u001b[1m30/30\u001b[0m \u001b[32m━━━━━━━━━━━━━━━━━━━━\u001b[0m\u001b[37m\u001b[0m \u001b[1m1s\u001b[0m 3ms/step - accuracy: 0.8601 - loss: 0.4361 - val_accuracy: 0.8954 - val_loss: 0.2799\n",
            "Epoch 3/10\n",
            "\u001b[1m30/30\u001b[0m \u001b[32m━━━━━━━━━━━━━━━━━━━━\u001b[0m\u001b[37m\u001b[0m \u001b[1m0s\u001b[0m 4ms/step - accuracy: 0.9102 - loss: 0.2627 - val_accuracy: 0.9498 - val_loss: 0.1786\n",
            "Epoch 4/10\n",
            "\u001b[1m30/30\u001b[0m \u001b[32m━━━━━━━━━━━━━━━━━━━━\u001b[0m\u001b[37m\u001b[0m \u001b[1m0s\u001b[0m 4ms/step - accuracy: 0.9651 - loss: 0.0942 - val_accuracy: 0.9414 - val_loss: 0.1572\n",
            "Epoch 5/10\n",
            "\u001b[1m30/30\u001b[0m \u001b[32m━━━━━━━━━━━━━━━━━━━━\u001b[0m\u001b[37m\u001b[0m \u001b[1m0s\u001b[0m 4ms/step - accuracy: 0.9864 - loss: 0.0540 - val_accuracy: 0.9456 - val_loss: 0.1470\n",
            "Epoch 6/10\n",
            "\u001b[1m30/30\u001b[0m \u001b[32m━━━━━━━━━━━━━━━━━━━━\u001b[0m\u001b[37m\u001b[0m \u001b[1m0s\u001b[0m 4ms/step - accuracy: 0.9947 - loss: 0.0229 - val_accuracy: 0.9498 - val_loss: 0.1422\n",
            "Epoch 7/10\n",
            "\u001b[1m30/30\u001b[0m \u001b[32m━━━━━━━━━━━━━━━━━━━━\u001b[0m\u001b[37m\u001b[0m \u001b[1m0s\u001b[0m 4ms/step - accuracy: 0.9959 - loss: 0.0184 - val_accuracy: 0.9582 - val_loss: 0.1514\n",
            "Epoch 8/10\n",
            "\u001b[1m30/30\u001b[0m \u001b[32m━━━━━━━━━━━━━━━━━━━━\u001b[0m\u001b[37m\u001b[0m \u001b[1m0s\u001b[0m 4ms/step - accuracy: 0.9978 - loss: 0.0149 - val_accuracy: 0.9582 - val_loss: 0.1536\n",
            "Epoch 9/10\n",
            "\u001b[1m30/30\u001b[0m \u001b[32m━━━━━━━━━━━━━━━━━━━━\u001b[0m\u001b[37m\u001b[0m \u001b[1m0s\u001b[0m 4ms/step - accuracy: 0.9984 - loss: 0.0087 - val_accuracy: 0.9540 - val_loss: 0.1495\n",
            "Epoch 10/10\n",
            "\u001b[1m30/30\u001b[0m \u001b[32m━━━━━━━━━━━━━━━━━━━━\u001b[0m\u001b[37m\u001b[0m \u001b[1m0s\u001b[0m 4ms/step - accuracy: 0.9978 - loss: 0.0081 - val_accuracy: 0.9540 - val_loss: 0.1709\n",
            "\u001b[1m10/10\u001b[0m \u001b[32m━━━━━━━━━━━━━━━━━━━━\u001b[0m\u001b[37m\u001b[0m \u001b[1m0s\u001b[0m 21ms/step\n",
            "Model 1 - Accuracy: 0.959866220735786\n",
            "Model 1 - Precision: 0.9863945578231292\n",
            "Model 1 - Recall: 0.9354838709677419\n",
            "Model 1 - F1-Score: 0.9602649006622516\n"
          ]
        }
      ]
    },
    {
      "cell_type": "code",
      "source": [
        "model2 = Sequential()\n",
        "model2.add(Embedding(max_words, 256, input_length=max_length))\n",
        "model2.add(Conv1D(filters=64, kernel_size=5, activation='relu'))\n",
        "model2.add(Conv1D(filters=32, kernel_size=3, activation='relu'))\n",
        "model2.add(MaxPooling1D(pool_size=2))\n",
        "model2.add(Flatten())\n",
        "model2.add(Dense(1, activation='sigmoid'))\n",
        "model2.compile(optimizer='adam', loss='binary_crossentropy', metrics=['accuracy'])\n",
        "model2.summary()\n",
        "model2.fit(X_train_pad, y_train, epochs=10, batch_size=32, validation_split=0.2)\n",
        "y_pred_model2 = (model2.predict(X_test_pad) > 0.5).astype(int)\n",
        "precision_model2 = precision_score(y_test, y_pred_model2)\n",
        "recall_model2 = recall_score(y_test, y_pred_model2)\n",
        "f1_model2 = f1_score(y_test, y_pred_model2)\n",
        "accuracy_model2 = accuracy_score(y_test, y_pred_model2)\n",
        "print(\"Model 2 - Accuracy:\", accuracy_model2)\n",
        "print(\"Model 2 - Precision:\", precision_model2)\n",
        "print(\"Model 2 - Recall:\", recall_model2)\n",
        "print(\"Model 2 - F1-Score:\", f1_model2)"
      ],
      "metadata": {
        "colab": {
          "base_uri": "https://localhost:8080/",
          "height": 813
        },
        "id": "PlG1gimga87K",
        "outputId": "397da7d7-23a3-47c8-fc1c-f03ca59ff208"
      },
      "execution_count": 42,
      "outputs": [
        {
          "output_type": "stream",
          "name": "stderr",
          "text": [
            "/usr/local/lib/python3.10/dist-packages/keras/src/layers/core/embedding.py:90: UserWarning: Argument `input_length` is deprecated. Just remove it.\n",
            "  warnings.warn(\n"
          ]
        },
        {
          "output_type": "display_data",
          "data": {
            "text/plain": [
              "\u001b[1mModel: \"sequential_10\"\u001b[0m\n"
            ],
            "text/html": [
              "<pre style=\"white-space:pre;overflow-x:auto;line-height:normal;font-family:Menlo,'DejaVu Sans Mono',consolas,'Courier New',monospace\"><span style=\"font-weight: bold\">Model: \"sequential_10\"</span>\n",
              "</pre>\n"
            ]
          },
          "metadata": {}
        },
        {
          "output_type": "display_data",
          "data": {
            "text/plain": [
              "┏━━━━━━━━━━━━━━━━━━━━━━━━━━━━━━━━━━━━━━┳━━━━━━━━━━━━━━━━━━━━━━━━━━━━━┳━━━━━━━━━━━━━━━━━┓\n",
              "┃\u001b[1m \u001b[0m\u001b[1mLayer (type)                        \u001b[0m\u001b[1m \u001b[0m┃\u001b[1m \u001b[0m\u001b[1mOutput Shape               \u001b[0m\u001b[1m \u001b[0m┃\u001b[1m \u001b[0m\u001b[1m        Param #\u001b[0m\u001b[1m \u001b[0m┃\n",
              "┡━━━━━━━━━━━━━━━━━━━━━━━━━━━━━━━━━━━━━━╇━━━━━━━━━━━━━━━━━━━━━━━━━━━━━╇━━━━━━━━━━━━━━━━━┩\n",
              "│ embedding_10 (\u001b[38;5;33mEmbedding\u001b[0m)             │ ?                           │     \u001b[38;5;34m0\u001b[0m (unbuilt) │\n",
              "├──────────────────────────────────────┼─────────────────────────────┼─────────────────┤\n",
              "│ conv1d_9 (\u001b[38;5;33mConv1D\u001b[0m)                    │ ?                           │     \u001b[38;5;34m0\u001b[0m (unbuilt) │\n",
              "├──────────────────────────────────────┼─────────────────────────────┼─────────────────┤\n",
              "│ conv1d_10 (\u001b[38;5;33mConv1D\u001b[0m)                   │ ?                           │     \u001b[38;5;34m0\u001b[0m (unbuilt) │\n",
              "├──────────────────────────────────────┼─────────────────────────────┼─────────────────┤\n",
              "│ max_pooling1d_7 (\u001b[38;5;33mMaxPooling1D\u001b[0m)       │ ?                           │     \u001b[38;5;34m0\u001b[0m (unbuilt) │\n",
              "├──────────────────────────────────────┼─────────────────────────────┼─────────────────┤\n",
              "│ flatten_7 (\u001b[38;5;33mFlatten\u001b[0m)                  │ ?                           │     \u001b[38;5;34m0\u001b[0m (unbuilt) │\n",
              "├──────────────────────────────────────┼─────────────────────────────┼─────────────────┤\n",
              "│ dense_10 (\u001b[38;5;33mDense\u001b[0m)                     │ ?                           │     \u001b[38;5;34m0\u001b[0m (unbuilt) │\n",
              "└──────────────────────────────────────┴─────────────────────────────┴─────────────────┘\n"
            ],
            "text/html": [
              "<pre style=\"white-space:pre;overflow-x:auto;line-height:normal;font-family:Menlo,'DejaVu Sans Mono',consolas,'Courier New',monospace\">┏━━━━━━━━━━━━━━━━━━━━━━━━━━━━━━━━━━━━━━┳━━━━━━━━━━━━━━━━━━━━━━━━━━━━━┳━━━━━━━━━━━━━━━━━┓\n",
              "┃<span style=\"font-weight: bold\"> Layer (type)                         </span>┃<span style=\"font-weight: bold\"> Output Shape                </span>┃<span style=\"font-weight: bold\">         Param # </span>┃\n",
              "┡━━━━━━━━━━━━━━━━━━━━━━━━━━━━━━━━━━━━━━╇━━━━━━━━━━━━━━━━━━━━━━━━━━━━━╇━━━━━━━━━━━━━━━━━┩\n",
              "│ embedding_10 (<span style=\"color: #0087ff; text-decoration-color: #0087ff\">Embedding</span>)             │ ?                           │     <span style=\"color: #00af00; text-decoration-color: #00af00\">0</span> (unbuilt) │\n",
              "├──────────────────────────────────────┼─────────────────────────────┼─────────────────┤\n",
              "│ conv1d_9 (<span style=\"color: #0087ff; text-decoration-color: #0087ff\">Conv1D</span>)                    │ ?                           │     <span style=\"color: #00af00; text-decoration-color: #00af00\">0</span> (unbuilt) │\n",
              "├──────────────────────────────────────┼─────────────────────────────┼─────────────────┤\n",
              "│ conv1d_10 (<span style=\"color: #0087ff; text-decoration-color: #0087ff\">Conv1D</span>)                   │ ?                           │     <span style=\"color: #00af00; text-decoration-color: #00af00\">0</span> (unbuilt) │\n",
              "├──────────────────────────────────────┼─────────────────────────────┼─────────────────┤\n",
              "│ max_pooling1d_7 (<span style=\"color: #0087ff; text-decoration-color: #0087ff\">MaxPooling1D</span>)       │ ?                           │     <span style=\"color: #00af00; text-decoration-color: #00af00\">0</span> (unbuilt) │\n",
              "├──────────────────────────────────────┼─────────────────────────────┼─────────────────┤\n",
              "│ flatten_7 (<span style=\"color: #0087ff; text-decoration-color: #0087ff\">Flatten</span>)                  │ ?                           │     <span style=\"color: #00af00; text-decoration-color: #00af00\">0</span> (unbuilt) │\n",
              "├──────────────────────────────────────┼─────────────────────────────┼─────────────────┤\n",
              "│ dense_10 (<span style=\"color: #0087ff; text-decoration-color: #0087ff\">Dense</span>)                     │ ?                           │     <span style=\"color: #00af00; text-decoration-color: #00af00\">0</span> (unbuilt) │\n",
              "└──────────────────────────────────────┴─────────────────────────────┴─────────────────┘\n",
              "</pre>\n"
            ]
          },
          "metadata": {}
        },
        {
          "output_type": "display_data",
          "data": {
            "text/plain": [
              "\u001b[1m Total params: \u001b[0m\u001b[38;5;34m0\u001b[0m (0.00 B)\n"
            ],
            "text/html": [
              "<pre style=\"white-space:pre;overflow-x:auto;line-height:normal;font-family:Menlo,'DejaVu Sans Mono',consolas,'Courier New',monospace\"><span style=\"font-weight: bold\"> Total params: </span><span style=\"color: #00af00; text-decoration-color: #00af00\">0</span> (0.00 B)\n",
              "</pre>\n"
            ]
          },
          "metadata": {}
        },
        {
          "output_type": "display_data",
          "data": {
            "text/plain": [
              "\u001b[1m Trainable params: \u001b[0m\u001b[38;5;34m0\u001b[0m (0.00 B)\n"
            ],
            "text/html": [
              "<pre style=\"white-space:pre;overflow-x:auto;line-height:normal;font-family:Menlo,'DejaVu Sans Mono',consolas,'Courier New',monospace\"><span style=\"font-weight: bold\"> Trainable params: </span><span style=\"color: #00af00; text-decoration-color: #00af00\">0</span> (0.00 B)\n",
              "</pre>\n"
            ]
          },
          "metadata": {}
        },
        {
          "output_type": "display_data",
          "data": {
            "text/plain": [
              "\u001b[1m Non-trainable params: \u001b[0m\u001b[38;5;34m0\u001b[0m (0.00 B)\n"
            ],
            "text/html": [
              "<pre style=\"white-space:pre;overflow-x:auto;line-height:normal;font-family:Menlo,'DejaVu Sans Mono',consolas,'Courier New',monospace\"><span style=\"font-weight: bold\"> Non-trainable params: </span><span style=\"color: #00af00; text-decoration-color: #00af00\">0</span> (0.00 B)\n",
              "</pre>\n"
            ]
          },
          "metadata": {}
        },
        {
          "output_type": "stream",
          "name": "stdout",
          "text": [
            "Epoch 1/10\n",
            "\u001b[1m30/30\u001b[0m \u001b[32m━━━━━━━━━━━━━━━━━━━━\u001b[0m\u001b[37m\u001b[0m \u001b[1m5s\u001b[0m 54ms/step - accuracy: 0.6202 - loss: 0.6629 - val_accuracy: 0.8828 - val_loss: 0.3380\n",
            "Epoch 2/10\n",
            "\u001b[1m30/30\u001b[0m \u001b[32m━━━━━━━━━━━━━━━━━━━━\u001b[0m\u001b[37m\u001b[0m \u001b[1m3s\u001b[0m 5ms/step - accuracy: 0.9138 - loss: 0.2162 - val_accuracy: 0.9372 - val_loss: 0.1739\n",
            "Epoch 3/10\n",
            "\u001b[1m30/30\u001b[0m \u001b[32m━━━━━━━━━━━━━━━━━━━━\u001b[0m\u001b[37m\u001b[0m \u001b[1m0s\u001b[0m 5ms/step - accuracy: 0.9872 - loss: 0.0557 - val_accuracy: 0.9582 - val_loss: 0.1599\n",
            "Epoch 4/10\n",
            "\u001b[1m30/30\u001b[0m \u001b[32m━━━━━━━━━━━━━━━━━━━━\u001b[0m\u001b[37m\u001b[0m \u001b[1m0s\u001b[0m 5ms/step - accuracy: 0.9943 - loss: 0.0212 - val_accuracy: 0.9456 - val_loss: 0.1651\n",
            "Epoch 5/10\n",
            "\u001b[1m30/30\u001b[0m \u001b[32m━━━━━━━━━━━━━━━━━━━━\u001b[0m\u001b[37m\u001b[0m \u001b[1m0s\u001b[0m 5ms/step - accuracy: 0.9993 - loss: 0.0090 - val_accuracy: 0.9456 - val_loss: 0.2443\n",
            "Epoch 6/10\n",
            "\u001b[1m30/30\u001b[0m \u001b[32m━━━━━━━━━━━━━━━━━━━━\u001b[0m\u001b[37m\u001b[0m \u001b[1m0s\u001b[0m 5ms/step - accuracy: 0.9998 - loss: 0.0028 - val_accuracy: 0.9414 - val_loss: 0.1795\n",
            "Epoch 7/10\n",
            "\u001b[1m30/30\u001b[0m \u001b[32m━━━━━━━━━━━━━━━━━━━━\u001b[0m\u001b[37m\u001b[0m \u001b[1m0s\u001b[0m 5ms/step - accuracy: 0.9992 - loss: 0.0045 - val_accuracy: 0.9372 - val_loss: 0.3167\n",
            "Epoch 8/10\n",
            "\u001b[1m30/30\u001b[0m \u001b[32m━━━━━━━━━━━━━━━━━━━━\u001b[0m\u001b[37m\u001b[0m \u001b[1m0s\u001b[0m 5ms/step - accuracy: 0.9988 - loss: 0.0038 - val_accuracy: 0.9331 - val_loss: 0.3604\n",
            "Epoch 9/10\n",
            "\u001b[1m30/30\u001b[0m \u001b[32m━━━━━━━━━━━━━━━━━━━━\u001b[0m\u001b[37m\u001b[0m \u001b[1m0s\u001b[0m 5ms/step - accuracy: 0.9978 - loss: 0.0031 - val_accuracy: 0.9498 - val_loss: 0.2369\n",
            "Epoch 10/10\n",
            "\u001b[1m30/30\u001b[0m \u001b[32m━━━━━━━━━━━━━━━━━━━━\u001b[0m\u001b[37m\u001b[0m \u001b[1m0s\u001b[0m 5ms/step - accuracy: 1.0000 - loss: 2.3914e-04 - val_accuracy: 0.9498 - val_loss: 0.3071\n",
            "\u001b[1m10/10\u001b[0m \u001b[32m━━━━━━━━━━━━━━━━━━━━\u001b[0m\u001b[37m\u001b[0m \u001b[1m0s\u001b[0m 23ms/step\n",
            "Model 2 - Accuracy: 0.959866220735786\n",
            "Model 2 - Precision: 0.9863945578231292\n",
            "Model 2 - Recall: 0.9354838709677419\n",
            "Model 2 - F1-Score: 0.9602649006622516\n"
          ]
        }
      ]
    },
    {
      "cell_type": "code",
      "source": [
        "model3 = Sequential()\n",
        "model3.add(Embedding(max_words, 64, input_length=max_length))\n",
        "model3.add(Conv1D(filters=16, kernel_size=7, activation='relu', strides=2))\n",
        "model3.add(MaxPooling1D(pool_size=2))\n",
        "model3.add(Flatten())\n",
        "model3.add(Dense(1, activation='sigmoid'))\n",
        "model3.compile(optimizer='adam', loss='binary_crossentropy', metrics=['accuracy'])\n",
        "model3.summary()\n",
        "model3.fit(X_train_pad, y_train, epochs=10, batch_size=32, validation_split=0.2)\n",
        "y_pred_model3 = (model3.predict(X_test_pad) > 0.5).astype(int)\n",
        "precision_model3 = precision_score(y_test, y_pred_model3)\n",
        "recall_model3 = recall_score(y_test, y_pred_model3)\n",
        "f1_model3 = f1_score(y_test, y_pred_model3)\n",
        "accuracy_model3 = accuracy_score(y_test, y_pred_model3)\n",
        "print(\"Model 3 - Accuracy:\", accuracy_model3)\n",
        "print(\"Model 3 - Precision:\", precision_model3)\n",
        "print(\"Model 3 - Recall:\", recall_model3)\n",
        "print(\"Model 3 - F1-Score:\", f1_model3)"
      ],
      "metadata": {
        "colab": {
          "base_uri": "https://localhost:8080/",
          "height": 780
        },
        "id": "nOPdEd0ka2vl",
        "outputId": "cb52f600-31da-419e-c82b-02f9709c3b29"
      },
      "execution_count": 43,
      "outputs": [
        {
          "output_type": "stream",
          "name": "stderr",
          "text": [
            "/usr/local/lib/python3.10/dist-packages/keras/src/layers/core/embedding.py:90: UserWarning: Argument `input_length` is deprecated. Just remove it.\n",
            "  warnings.warn(\n"
          ]
        },
        {
          "output_type": "display_data",
          "data": {
            "text/plain": [
              "\u001b[1mModel: \"sequential_11\"\u001b[0m\n"
            ],
            "text/html": [
              "<pre style=\"white-space:pre;overflow-x:auto;line-height:normal;font-family:Menlo,'DejaVu Sans Mono',consolas,'Courier New',monospace\"><span style=\"font-weight: bold\">Model: \"sequential_11\"</span>\n",
              "</pre>\n"
            ]
          },
          "metadata": {}
        },
        {
          "output_type": "display_data",
          "data": {
            "text/plain": [
              "┏━━━━━━━━━━━━━━━━━━━━━━━━━━━━━━━━━━━━━━┳━━━━━━━━━━━━━━━━━━━━━━━━━━━━━┳━━━━━━━━━━━━━━━━━┓\n",
              "┃\u001b[1m \u001b[0m\u001b[1mLayer (type)                        \u001b[0m\u001b[1m \u001b[0m┃\u001b[1m \u001b[0m\u001b[1mOutput Shape               \u001b[0m\u001b[1m \u001b[0m┃\u001b[1m \u001b[0m\u001b[1m        Param #\u001b[0m\u001b[1m \u001b[0m┃\n",
              "┡━━━━━━━━━━━━━━━━━━━━━━━━━━━━━━━━━━━━━━╇━━━━━━━━━━━━━━━━━━━━━━━━━━━━━╇━━━━━━━━━━━━━━━━━┩\n",
              "│ embedding_11 (\u001b[38;5;33mEmbedding\u001b[0m)             │ ?                           │     \u001b[38;5;34m0\u001b[0m (unbuilt) │\n",
              "├──────────────────────────────────────┼─────────────────────────────┼─────────────────┤\n",
              "│ conv1d_11 (\u001b[38;5;33mConv1D\u001b[0m)                   │ ?                           │     \u001b[38;5;34m0\u001b[0m (unbuilt) │\n",
              "├──────────────────────────────────────┼─────────────────────────────┼─────────────────┤\n",
              "│ max_pooling1d_8 (\u001b[38;5;33mMaxPooling1D\u001b[0m)       │ ?                           │     \u001b[38;5;34m0\u001b[0m (unbuilt) │\n",
              "├──────────────────────────────────────┼─────────────────────────────┼─────────────────┤\n",
              "│ flatten_8 (\u001b[38;5;33mFlatten\u001b[0m)                  │ ?                           │     \u001b[38;5;34m0\u001b[0m (unbuilt) │\n",
              "├──────────────────────────────────────┼─────────────────────────────┼─────────────────┤\n",
              "│ dense_11 (\u001b[38;5;33mDense\u001b[0m)                     │ ?                           │     \u001b[38;5;34m0\u001b[0m (unbuilt) │\n",
              "└──────────────────────────────────────┴─────────────────────────────┴─────────────────┘\n"
            ],
            "text/html": [
              "<pre style=\"white-space:pre;overflow-x:auto;line-height:normal;font-family:Menlo,'DejaVu Sans Mono',consolas,'Courier New',monospace\">┏━━━━━━━━━━━━━━━━━━━━━━━━━━━━━━━━━━━━━━┳━━━━━━━━━━━━━━━━━━━━━━━━━━━━━┳━━━━━━━━━━━━━━━━━┓\n",
              "┃<span style=\"font-weight: bold\"> Layer (type)                         </span>┃<span style=\"font-weight: bold\"> Output Shape                </span>┃<span style=\"font-weight: bold\">         Param # </span>┃\n",
              "┡━━━━━━━━━━━━━━━━━━━━━━━━━━━━━━━━━━━━━━╇━━━━━━━━━━━━━━━━━━━━━━━━━━━━━╇━━━━━━━━━━━━━━━━━┩\n",
              "│ embedding_11 (<span style=\"color: #0087ff; text-decoration-color: #0087ff\">Embedding</span>)             │ ?                           │     <span style=\"color: #00af00; text-decoration-color: #00af00\">0</span> (unbuilt) │\n",
              "├──────────────────────────────────────┼─────────────────────────────┼─────────────────┤\n",
              "│ conv1d_11 (<span style=\"color: #0087ff; text-decoration-color: #0087ff\">Conv1D</span>)                   │ ?                           │     <span style=\"color: #00af00; text-decoration-color: #00af00\">0</span> (unbuilt) │\n",
              "├──────────────────────────────────────┼─────────────────────────────┼─────────────────┤\n",
              "│ max_pooling1d_8 (<span style=\"color: #0087ff; text-decoration-color: #0087ff\">MaxPooling1D</span>)       │ ?                           │     <span style=\"color: #00af00; text-decoration-color: #00af00\">0</span> (unbuilt) │\n",
              "├──────────────────────────────────────┼─────────────────────────────┼─────────────────┤\n",
              "│ flatten_8 (<span style=\"color: #0087ff; text-decoration-color: #0087ff\">Flatten</span>)                  │ ?                           │     <span style=\"color: #00af00; text-decoration-color: #00af00\">0</span> (unbuilt) │\n",
              "├──────────────────────────────────────┼─────────────────────────────┼─────────────────┤\n",
              "│ dense_11 (<span style=\"color: #0087ff; text-decoration-color: #0087ff\">Dense</span>)                     │ ?                           │     <span style=\"color: #00af00; text-decoration-color: #00af00\">0</span> (unbuilt) │\n",
              "└──────────────────────────────────────┴─────────────────────────────┴─────────────────┘\n",
              "</pre>\n"
            ]
          },
          "metadata": {}
        },
        {
          "output_type": "display_data",
          "data": {
            "text/plain": [
              "\u001b[1m Total params: \u001b[0m\u001b[38;5;34m0\u001b[0m (0.00 B)\n"
            ],
            "text/html": [
              "<pre style=\"white-space:pre;overflow-x:auto;line-height:normal;font-family:Menlo,'DejaVu Sans Mono',consolas,'Courier New',monospace\"><span style=\"font-weight: bold\"> Total params: </span><span style=\"color: #00af00; text-decoration-color: #00af00\">0</span> (0.00 B)\n",
              "</pre>\n"
            ]
          },
          "metadata": {}
        },
        {
          "output_type": "display_data",
          "data": {
            "text/plain": [
              "\u001b[1m Trainable params: \u001b[0m\u001b[38;5;34m0\u001b[0m (0.00 B)\n"
            ],
            "text/html": [
              "<pre style=\"white-space:pre;overflow-x:auto;line-height:normal;font-family:Menlo,'DejaVu Sans Mono',consolas,'Courier New',monospace\"><span style=\"font-weight: bold\"> Trainable params: </span><span style=\"color: #00af00; text-decoration-color: #00af00\">0</span> (0.00 B)\n",
              "</pre>\n"
            ]
          },
          "metadata": {}
        },
        {
          "output_type": "display_data",
          "data": {
            "text/plain": [
              "\u001b[1m Non-trainable params: \u001b[0m\u001b[38;5;34m0\u001b[0m (0.00 B)\n"
            ],
            "text/html": [
              "<pre style=\"white-space:pre;overflow-x:auto;line-height:normal;font-family:Menlo,'DejaVu Sans Mono',consolas,'Courier New',monospace\"><span style=\"font-weight: bold\"> Non-trainable params: </span><span style=\"color: #00af00; text-decoration-color: #00af00\">0</span> (0.00 B)\n",
              "</pre>\n"
            ]
          },
          "metadata": {}
        },
        {
          "output_type": "stream",
          "name": "stdout",
          "text": [
            "Epoch 1/10\n",
            "\u001b[1m30/30\u001b[0m \u001b[32m━━━━━━━━━━━━━━━━━━━━\u001b[0m\u001b[37m\u001b[0m \u001b[1m3s\u001b[0m 36ms/step - accuracy: 0.5595 - loss: 0.6850 - val_accuracy: 0.8661 - val_loss: 0.6417\n",
            "Epoch 2/10\n",
            "\u001b[1m30/30\u001b[0m \u001b[32m━━━━━━━━━━━━━━━━━━━━\u001b[0m\u001b[37m\u001b[0m \u001b[1m1s\u001b[0m 4ms/step - accuracy: 0.8855 - loss: 0.5920 - val_accuracy: 0.8577 - val_loss: 0.4263\n",
            "Epoch 3/10\n",
            "\u001b[1m30/30\u001b[0m \u001b[32m━━━━━━━━━━━━━━━━━━━━\u001b[0m\u001b[37m\u001b[0m \u001b[1m0s\u001b[0m 4ms/step - accuracy: 0.8564 - loss: 0.3708 - val_accuracy: 0.8787 - val_loss: 0.2830\n",
            "Epoch 4/10\n",
            "\u001b[1m30/30\u001b[0m \u001b[32m━━━━━━━━━━━━━━━━━━━━\u001b[0m\u001b[37m\u001b[0m \u001b[1m0s\u001b[0m 4ms/step - accuracy: 0.9058 - loss: 0.2514 - val_accuracy: 0.9289 - val_loss: 0.2166\n",
            "Epoch 5/10\n",
            "\u001b[1m30/30\u001b[0m \u001b[32m━━━━━━━━━━━━━━━━━━━━\u001b[0m\u001b[37m\u001b[0m \u001b[1m0s\u001b[0m 4ms/step - accuracy: 0.9522 - loss: 0.1525 - val_accuracy: 0.9414 - val_loss: 0.1945\n",
            "Epoch 6/10\n",
            "\u001b[1m30/30\u001b[0m \u001b[32m━━━━━━━━━━━━━━━━━━━━\u001b[0m\u001b[37m\u001b[0m \u001b[1m0s\u001b[0m 4ms/step - accuracy: 0.9807 - loss: 0.0889 - val_accuracy: 0.9331 - val_loss: 0.1755\n",
            "Epoch 7/10\n",
            "\u001b[1m30/30\u001b[0m \u001b[32m━━━━━━━━━━━━━━━━━━━━\u001b[0m\u001b[37m\u001b[0m \u001b[1m0s\u001b[0m 5ms/step - accuracy: 0.9839 - loss: 0.0598 - val_accuracy: 0.9331 - val_loss: 0.1722\n",
            "Epoch 8/10\n",
            "\u001b[1m30/30\u001b[0m \u001b[32m━━━━━━━━━━━━━━━━━━━━\u001b[0m\u001b[37m\u001b[0m \u001b[1m0s\u001b[0m 4ms/step - accuracy: 0.9814 - loss: 0.0524 - val_accuracy: 0.9331 - val_loss: 0.1752\n",
            "Epoch 9/10\n",
            "\u001b[1m30/30\u001b[0m \u001b[32m━━━━━━━━━━━━━━━━━━━━\u001b[0m\u001b[37m\u001b[0m \u001b[1m0s\u001b[0m 4ms/step - accuracy: 0.9941 - loss: 0.0299 - val_accuracy: 0.9331 - val_loss: 0.1775\n",
            "Epoch 10/10\n",
            "\u001b[1m30/30\u001b[0m \u001b[32m━━━━━━━━━━━━━━━━━━━━\u001b[0m\u001b[37m\u001b[0m \u001b[1m0s\u001b[0m 4ms/step - accuracy: 0.9961 - loss: 0.0218 - val_accuracy: 0.9331 - val_loss: 0.1834\n",
            "\u001b[1m10/10\u001b[0m \u001b[32m━━━━━━━━━━━━━━━━━━━━\u001b[0m\u001b[37m\u001b[0m \u001b[1m0s\u001b[0m 19ms/step\n",
            "Model 3 - Accuracy: 0.959866220735786\n",
            "Model 3 - Precision: 0.9673202614379085\n",
            "Model 3 - Recall: 0.9548387096774194\n",
            "Model 3 - F1-Score: 0.9610389610389611\n"
          ]
        }
      ]
    },
    {
      "cell_type": "code",
      "source": [
        "table_data = [\n",
        "    [\"Model\", \"Accuracy\", \"Precision\", \"Recall\", \"F1-score\"],\n",
        "    [\"SimpleRNN (32 units)\", accuracy_1, precision_1, recall_1, f1_1],\n",
        "    [\"LSTM (64 units)\", accuracy_2, precision_2, recall_2, f1_2],\n",
        "    [\"GRU (128 units)\", accuracy_3, precision_3, recall_3, f1_3],\n",
        "    [\"CNN Model 1\", accuracy_model1, precision_model1, recall_model1, f1_model1],\n",
        "    [\"CNN Model 2\", accuracy_model2, precision_model2, recall_model2, f1_model2],\n",
        "    [\"CNN Model 3\", accuracy_model3, precision_model3, recall_model3, f1_model3],\n",
        "]\n",
        "\n",
        "print(tabulate(table_data, headers=\"firstrow\", tablefmt=\"grid\"))\n"
      ],
      "metadata": {
        "colab": {
          "base_uri": "https://localhost:8080/"
        },
        "id": "Dn1ywlBbbJWN",
        "outputId": "c6ee6c5d-cad8-4f33-9c8c-b20dbda95280"
      },
      "execution_count": 44,
      "outputs": [
        {
          "output_type": "stream",
          "name": "stdout",
          "text": [
            "+----------------------+------------+-------------+----------+------------+\n",
            "| Model                |   Accuracy |   Precision |   Recall |   F1-score |\n",
            "+======================+============+=============+==========+============+\n",
            "| SimpleRNN (32 units) |   0.943144 |    0.992857 | 0.896774 |   0.942373 |\n",
            "+----------------------+------------+-------------+----------+------------+\n",
            "| LSTM (64 units)      |   0.9699   |    0.993243 | 0.948387 |   0.970297 |\n",
            "+----------------------+------------+-------------+----------+------------+\n",
            "| GRU (128 units)      |   0.963211 |    0.986486 | 0.941935 |   0.963696 |\n",
            "+----------------------+------------+-------------+----------+------------+\n",
            "| CNN Model 1          |   0.959866 |    0.986395 | 0.935484 |   0.960265 |\n",
            "+----------------------+------------+-------------+----------+------------+\n",
            "| CNN Model 2          |   0.959866 |    0.986395 | 0.935484 |   0.960265 |\n",
            "+----------------------+------------+-------------+----------+------------+\n",
            "| CNN Model 3          |   0.959866 |    0.96732  | 0.954839 |   0.961039 |\n",
            "+----------------------+------------+-------------+----------+------------+\n"
          ]
        }
      ]
    },
    {
      "cell_type": "markdown",
      "source": [
        "Based on the table, we can observe that the RNN models generally outperform the CNN models in terms of accuracy, precision, recall, and F1-score for this spam detection task. The best performing model is the LSTM model which outshines the other models with high scores accross all metrics. It got the highest precision and accuracy.\n"
      ],
      "metadata": {
        "id": "mse8ZhhvcJ82"
      }
    }
  ],
  "metadata": {
    "accelerator": "GPU",
    "colab": {
      "gpuType": "T4",
      "provenance": []
    },
    "kernelspec": {
      "display_name": "Python 3",
      "name": "python3"
    },
    "language_info": {
      "name": "python"
    }
  },
  "nbformat": 4,
  "nbformat_minor": 0
}
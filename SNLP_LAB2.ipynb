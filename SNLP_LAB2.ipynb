{
  "nbformat": 4,
  "nbformat_minor": 0,
  "metadata": {
    "colab": {
      "provenance": []
    },
    "kernelspec": {
      "name": "python3",
      "display_name": "Python 3"
    },
    "language_info": {
      "name": "python"
    }
  },
  "cells": [
    {
      "cell_type": "markdown",
      "source": [
        "*22 July 2024 : 21BAI1133 - Mukundh J*\n",
        "#  Speech and Natural Language Processing Lab 2\n",
        "Task:\n",
        "\n",
        "Using a minimum of 500 words, implement POS Tagging using NLTK (or any package you prefer). Use more words if required.\n",
        "\n",
        "- Explore two tagsets for POS tagging, and comment about the influence of these tagsets on the output.\n",
        "\n",
        "- What happens when the input is a paragraph from a generic article on Wikipedia, versus a technical article? (Yes, you have to analyze with minimum 500 (wiki) vs 500 (arxiv) words\n",
        "\n",
        "- Comment about the influence of three Homographs (words that have the same spelling but different meaning. These homographs can be part of your original text, or it can be made up on your own."
      ],
      "metadata": {
        "id": "hjNTbtmB6p_M"
      }
    },
    {
      "cell_type": "markdown",
      "source": [
        "## Text processing"
      ],
      "metadata": {
        "id": "d9u7XK-M7PY1"
      }
    },
    {
      "cell_type": "code",
      "source": [
        "!pip install wikipedia"
      ],
      "metadata": {
        "colab": {
          "base_uri": "https://localhost:8080/"
        },
        "id": "OLX-qyXJrg-p",
        "outputId": "4265d62a-4f5e-414b-f73d-6c08079b45a4"
      },
      "execution_count": null,
      "outputs": [
        {
          "output_type": "stream",
          "name": "stdout",
          "text": [
            "Collecting wikipedia\n",
            "  Downloading wikipedia-1.4.0.tar.gz (27 kB)\n",
            "  Preparing metadata (setup.py) ... \u001b[?25l\u001b[?25hdone\n",
            "Requirement already satisfied: beautifulsoup4 in /usr/local/lib/python3.10/dist-packages (from wikipedia) (4.12.3)\n",
            "Requirement already satisfied: requests<3.0.0,>=2.0.0 in /usr/local/lib/python3.10/dist-packages (from wikipedia) (2.31.0)\n",
            "Requirement already satisfied: charset-normalizer<4,>=2 in /usr/local/lib/python3.10/dist-packages (from requests<3.0.0,>=2.0.0->wikipedia) (3.3.2)\n",
            "Requirement already satisfied: idna<4,>=2.5 in /usr/local/lib/python3.10/dist-packages (from requests<3.0.0,>=2.0.0->wikipedia) (3.7)\n",
            "Requirement already satisfied: urllib3<3,>=1.21.1 in /usr/local/lib/python3.10/dist-packages (from requests<3.0.0,>=2.0.0->wikipedia) (2.0.7)\n",
            "Requirement already satisfied: certifi>=2017.4.17 in /usr/local/lib/python3.10/dist-packages (from requests<3.0.0,>=2.0.0->wikipedia) (2024.7.4)\n",
            "Requirement already satisfied: soupsieve>1.2 in /usr/local/lib/python3.10/dist-packages (from beautifulsoup4->wikipedia) (2.5)\n",
            "Building wheels for collected packages: wikipedia\n",
            "  Building wheel for wikipedia (setup.py) ... \u001b[?25l\u001b[?25hdone\n",
            "  Created wheel for wikipedia: filename=wikipedia-1.4.0-py3-none-any.whl size=11680 sha256=2da2dca857ec00e7f1c4dcc50a4ec62a82599d295050dce05428988decb4f4cc\n",
            "  Stored in directory: /root/.cache/pip/wheels/5e/b6/c5/93f3dec388ae76edc830cb42901bb0232504dfc0df02fc50de\n",
            "Successfully built wikipedia\n",
            "Installing collected packages: wikipedia\n",
            "Successfully installed wikipedia-1.4.0\n"
          ]
        }
      ]
    },
    {
      "cell_type": "code",
      "source": [
        "import wikipedia\n",
        "wiki = wikipedia.page('Natural language processing')\n",
        "text = wiki.content\n",
        "text = text.replace('==', '')\n",
        "text=text.split()[:542]\n",
        "wikitext=' '.join(text)\n",
        "print(wikitext)"
      ],
      "metadata": {
        "colab": {
          "base_uri": "https://localhost:8080/"
        },
        "id": "MuzVsYpfqt0L",
        "outputId": "6e0fb173-c610-4b1e-9d28-e776a7994998"
      },
      "execution_count": null,
      "outputs": [
        {
          "output_type": "stream",
          "name": "stdout",
          "text": [
            "Athletics is a group of sporting events that involves competitive running, jumping, throwing, and walking. The most common types of athletics competitions are track and field, road running, cross-country running, and racewalking. The results of racing events are decided by finishing position (or time, where measured), while the jumps and throws are won by the athlete that achieves the highest or furthest measurement from a series of attempts. The simplicity of the competitions, and the lack of a need for expensive equipment, makes athletics one of the most common types of sports in the world. Athletics is mostly an individual sport, with the exception of relay races and competitions which combine athletes' performances for a team score, such as cross country. Organized athletics are traced back to the Ancient Olympic Games from 776 BC. The rules and format of the modern events in athletics were defined in Western Europe and North America in the 19th and early 20th century, and were then spread to other parts of the world. Most modern top level meetings are held under the auspices of World Athletics, the global governing body for the sport of athletics, or its member continental and national federations. The athletics meeting forms the backbone of the Summer Olympics. The foremost international athletics meeting is the World Athletics Championships, which incorporates track and field, marathon running and race walking. Other top level competitions in athletics include the World Athletics Cross Country Championships and the World Athletics Road Running Championships. Athletes with a physical disability compete at the Summer Paralympics and the World Para Athletics Championships. The word athletics is derived from the Ancient Greek ἀθλητής (athlētēs, \"combatant in public games\") from ἆθλον (athlon, \"prize\") or ἆθλος (athlos, \"competition\"). Initially, the term described athletic contests in general – i.e. sporting competition based primarily on human physical feats. In the 19th century, the term athletics acquired a more narrow definition in Europe and came to describe sports involving competitive running, walking, jumping and throwing. This definition continues to be prominent in the United Kingdom and the former British Empire. Related words in Germanic and Romance languages also have a similar meaning. In many parts of North America, athletics is commonly understood as encompassing sports in general, aligning with its historical usage. The term \"athletics\" is seldom used specifically to denote the sport of athletics in this region. Instead, track and field is the preferred term used in the United States and Canada to describe athletics events, which include race-walking and marathon running (although cross-country running is typically categorized as a distinct sport). History = Ancient = Athletic contests in running, walking, jumping and throwing are among the oldest of all sports and their roots are prehistoric. Athletics events were depicted in the Ancient Egyptian tombs in Saqqara, with illustrations of running at the Heb Sed festival and high jumping appearing in tombs from as early as of 2250 BC. The Tailteann Games were an ancient Celtic festival in Ireland, founded c. 1800 BC, and the thirty-day meeting included running and stone-throwing among its sporting events. The original and only event at the first Olympics in 776 BC was a stadium-length running event known as the stadion. This later expanded to include throwing and jumping events\n"
          ]
        }
      ]
    },
    {
      "cell_type": "code",
      "source": [
        "arxiv_text = wikipedia.page('Deep learning').content\n",
        "arxiv_text = arxiv_text.replace('==', '')\n",
        "arxiv_text = arxiv_text.split()[:542]\n",
        "arxiv_text = ' '.join(arxiv_text)\n",
        "print(arxiv_text)\n"
      ],
      "metadata": {
        "colab": {
          "base_uri": "https://localhost:8080/"
        },
        "id": "TNfvYD1_xKB4",
        "outputId": "31afc7be-db29-406a-8a1a-65cf0b0c9cdb"
      },
      "execution_count": null,
      "outputs": [
        {
          "output_type": "stream",
          "name": "stdout",
          "text": [
            "Deep learning is the subset of machine learning methods based on neural networks with representation learning. The adjective \"deep\" refers to the use of multiple layers in the network. Methods used can be either supervised, semi-supervised or unsupervised. Deep-learning architectures such as deep neural networks, deep belief networks, recurrent neural networks, convolutional neural networks and transformers have been applied to fields including computer vision, speech recognition, natural language processing, machine translation, bioinformatics, drug design, medical image analysis, climate science, material inspection and board game programs, where they have produced results comparable to and in some cases surpassing human expert performance. Early forms of neural networks were inspired by information processing and distributed communication nodes in biological systems, in particular the human brain. However, current neural networks do not intend to model the brain function of organisms, and are generally seen as low quality models for that purpose. Overview Most modern deep learning models are based on multi-layered neural networks such as convolutional neural networks and transformers, although they can also include propositional formulas or latent variables organized layer-wise in deep generative models such as the nodes in deep belief networks and deep Boltzmann machines. Fundamentally, deep learning refers to a class of machine learning algorithms in which a hierarchy of layers is used to transform input data into a slightly more abstract and composite representation. For example, in an image recognition model, the raw input may be an image (represented as a tensor of pixels). The first representational layer may attempt to identify basic shapes such as lines and circles, the second layer may compose and encode arrangements of edges, the third layer may encode a nose and eyes, and the fourth layer may recognize that the image contains a face. Importantly, a deep learning process can learn which features to optimally place in which level on its own. Prior to deep learning, machine learning techniques often involved hand-crafted feature engineering to transform the data into a more suitable representation for a classification algorithm to operate upon. In the deep learning approach, features are not hand-crafted and the model discovers useful feature representations from the data automatically. This does not eliminate the need for hand-tuning; for example, varying numbers of layers and layer sizes can provide different degrees of abstraction. The word \"deep\" in \"deep learning\" refers to the number of layers through which the data is transformed. More precisely, deep learning systems have a substantial credit assignment path (CAP) depth. The CAP is the chain of transformations from input to output. CAPs describe potentially causal connections between input and output. For a feedforward neural network, the depth of the CAPs is that of the network and is the number of hidden layers plus one (as the output layer is also parameterized). For recurrent neural networks, in which a signal may propagate through a layer more than once, the CAP depth is potentially unlimited. No universally agreed-upon threshold of depth divides shallow learning from deep learning, but most researchers agree that deep learning involves CAP depth higher than 2. CAP of depth 2 has been shown to be a universal approximator in the sense that it can emulate any function. Beyond that, more layers do not add to the function approximator ability\n"
          ]
        }
      ]
    },
    {
      "cell_type": "code",
      "source": [
        "arxiv_text='''Based on the WASSA 2022 Shared Task on\n",
        "Empathy Detection and Emotion Classification,\n",
        "we predict the level of empathic concern and\n",
        "personal distress displayed in essays. For the\n",
        "first stage of this project we implemented a\n",
        "Feed-Forward Neural Network using sentencelevel embeddings as features. We experimented\n",
        "with four different embedding models for generating the inputs to the neural network. The\n",
        "subsequent stage builds upon the previous work\n",
        "and we have implemented three types of revisions. The first revision focuses on the enhancements to the model architecture and the training\n",
        "approach. The second revision focuses on handling class imbalance using stratified data sampling. The third revision focuses on leveraging\n",
        "lexical resources, where we apply four different resources to enrich the features associated\n",
        "with the dataset. During the final stage of this\n",
        "project, we have created the final end-to-end\n",
        "system for the primary task using an ensemble\n",
        "of models to revise primary task performance.\n",
        "Additionally, as part of the final stage, these\n",
        "approaches have been adapted to the WASSA\n",
        "2023 Shared Task on Empathy Emotion and\n",
        "Personality Detection in Interactions, in which\n",
        "the empathic concern, emotion polarity, and\n",
        "emotion intensity in dyadic text conversations\n",
        "are predicted.\n",
        "1 Introduction\n",
        "As human-computer interactions increasingly integrate into our daily lives through applications, such\n",
        "as conversational agents where form is as critical\n",
        "as substance, it becomes paramount for computer\n",
        "systems to demonstrate natural interactions by recognizing and expressing affect. The field of Affective Computing, as proposed by Picard (2000),\n",
        "aims to endow computer systems with the capability to mimic our understanding of how emotions\n",
        "influence human perception and behavior. This is\n",
        "particularly relevant in light of the fact that a vast\n",
        "majority of U.S. adults (86%) receive news through\n",
        "digital devices such as smartphones, computers, or\n",
        "tablets (Shearer, 2021). This project focuses on\n",
        "predicting empathy and distress elicited from news\n",
        "stories.\n",
        "2 Task Description\n",
        "This project is organized to address a primary task\n",
        "and an adaptation task. The description of the primary task is provided in Section 2.1 and the description of the adaptation task is provided in Section\n",
        "2.2.\n",
        "2.1 Primary Task\n",
        "The primary task in this project is based on the\n",
        "shared task from WASSA 2022 Shared Task on\n",
        "Empathy Detection and Emotion Classification\n",
        "(Buechel et al., 2018), organized at WASSA (2022)\n",
        "and whose final results are published at Barriere\n",
        "et al. (2022). The affect type of the task is emotion. The genre of the dataset is news articles, the\n",
        "modality is text, and the language is English.\n",
        "The primary task for this project is the first subtask of the WASSA (2022) shared task, Empathy\n",
        "Prediction, which consists of predicting both the\n",
        "empathy concern and the personal distress at the\n",
        "essay-level. This is a regression task. The dataset\n",
        "used in this project is the same as the one used\n",
        "in the shared task, and can be downloaded from\n",
        "WASSA (2022). The dataset contains empathic essay reactions to news stories, with associated Batson empathic concern and personal distress scores\n",
        "for each response. In addition to these scores, each\n",
        "response in the dataset contains gold standard labels for emotion, demographic information (age,\n",
        "gender, education, race, income) of the person who\n",
        "submitted the response, as well as the personality\n",
        "type of the writer.\n",
        "arXiv:2407.18496v1 [cs.CL] 26 Jul 2024\n",
        "Figure 1: Architecture Overview.\n",
        "The training data for this task consists of 1860\n",
        "responses with gold standards for Empathy Prediction subtask. The development data consists of\n",
        "270 responses with gold standard labels, and the\n",
        "test data contains 525 responses, but without gold\n",
        "standard labels.\n",
        "The evaluation criteria for the Empathy Prediction task is the average Pearson correlation of the\n",
        "empathy scores and the distress scores. The evaluation for the test set requires predicting the outputs\n",
        "of the test set and submitting to the WASSA (2022)\n",
        "website. The test scores are then generated on the\n",
        "CodaLab platform and are available for download.\n",
        "2.2 Adaptation Task\n",
        "The adaptation task for this project is based on the\n",
        "WASSA 2023 Shared Task on Empathy Emotion\n",
        "and Personality Detection in Interactions (WASSA,\n",
        "2023). This shared task builds on the shared task\n",
        "from WASSA (2022) and includes dyadic (two person) text conversations about news articles. The\n",
        "dataset, described in Omitaomu et al. (2022), can\n",
        "be downloaded from the WASSA (2023) website.\n",
        "This dataset complements the Empathic Reactions\n",
        "dataset by Buechel et al. (2018) by providing conversational interactions rather than only first-person\n",
        "statements.\n",
        "The selected adaptation task for this project\n",
        "is Empathy and Emotion Prediction in Conversations, which involves predicting the perceived empathy, emotion polarity and emotion intensity at\n",
        "the speech-turn-level in a conversation. This is a\n",
        "regression task. The affect type of this task is emotion, and the genre of the dataset is news articles.\n",
        "The modality is text, and the language is English.\n",
        "This adaptation task differs from the primary task\n",
        "in that the primary task focuses on first-person text\n",
        "while the adaptation task focuses on turn-by-turn\n",
        "conversations. One potential application for this\n",
        "adaptation task is to develop and evaluate conversational AI agents, such as ChatGPT, that are capable\n",
        "of producing and processing empathetic responses\n",
        "in human-AI interactions.\n",
        "The training data for the adaptation task consists\n",
        "of 792 conversations with gold values for empathy and distress. Each of these conversations is\n",
        "further organized at the turn-level with 8,776 turns\n",
        "and has gold standard values for empathy, emotion polarity, and emotion intensity. The dev set\n",
        "consists of 208 conversations which are further organized at turn-level with 2,400 turns. Just like the\n",
        "training dataset, the dev set has the corresponding\n",
        "gold values. The test set consists of 136 conversations which are further organized at turn-level with\n",
        "1,425 turns. Unlike the training dataset and the dev\n",
        "dataset, the test set does not have the corresponding\n",
        "gold values.\n",
        "The evaluation criteria for the Empathy and Emotion Prediction in Conversations task is the average\n",
        "of the three Pearson correlations: Pearson correlation of empathy, Pearson correlation of emotional\n",
        "polarity, and Pearson correlation of emotional intensity. The evaluation for the test set requires\n",
        "predicting the outputs of the test set and submitting\n",
        "to the WASSA (2023) website. The test scores are\n",
        "then generated on the CodaLab platform and are\n",
        "available for download.\n",
        "3 System Overview\n",
        "3.1 Dataset repository and usage details\n",
        "The datasets for the primary task are part of the\n",
        "WASSA 2022 Shared Task on Empathy and Emotion Classification1\n",
        ". The training, development,\n",
        "and test datasets can be downloaded from the\n",
        "WASSA 2022 dataset link2\n",
        ". As part of the WASSA\n",
        "2022 dataset usage guidelines, these datasets must\n",
        "only be used for scientific or research purposes and\n",
        "the paper Barriere et al. (2022) must be cited.\n",
        "The datasets for the adaptation task is part of the\n",
        "WASSA 2023 Shared Task on Empathy Emotion\n",
        "and Personality Detection in Interactions3\n",
        ". The\n",
        "training, development, and test datasets can be\n",
        "downloaded from the WASSA 2023 dataset link4\n",
        ".\n",
        "As part of the WASSA 2023 terms and conditions,\n",
        "these datasets should only be used for scientific\n",
        "or research purposes. Any other use is explicitly\n",
        "prohibited. Any use of the datasets must be accompanied with a citation of the associated paper\n",
        "(Omitaomu et al., 2022).\n",
        "3.2 Data exploration\n",
        "For the primary task, the training dataset is comprised of 1860 rows, each of which containing three\n",
        "columns for empathy, distress and the essay. The\n",
        "Dev dataset contains 270 rows with the same three\n",
        "columns. The test dataset contains 525 rows, but\n",
        "without the golden values. The distribution of the\n",
        "training dataset is shown in Figure 2. We observe\n",
        "that the empathy and distress values in the training and dev datasets are imbalanced, with a higher\n",
        "concentration of density between values 1 and 2.\n",
        "For the adaptation task, the training dataset consists of 792 conversations, each further organized\n",
        "into 8,776 turns. The dataset has the corresponding\n",
        "values for empathy, emotion polarity, and emotional intensity. The dev set consists of 208 conversations, each further organized into 2,400 turns,\n",
        "with the same three target values of empathy, emotion polarity, and emotion intensity. The test set\n",
        "consists of 136 conversations, each further organized into 1,425 turns. The distribution of the target features in the training set is shown in Figure 3.\n",
        "We observe that the empathy and emotion polarity values are between 0 and 5, while the values\n",
        "for emotion polarity ranges from 0 to 2. Additionally, we observe an imbalance in the distribution\n",
        "of data values. For empathy and emotion polarity,\n",
        "there are fewer samples near 0 and 5 than towards\n",
        "other numbers. Similarly, for emotion polarity, the\n",
        "distribution of samples is unbalanced, with more\n",
        "samples near 1 and 2 than near 0\n",
        "'''"
      ],
      "metadata": {
        "id": "yNrT80Dtx_xf"
      },
      "execution_count": null,
      "outputs": []
    },
    {
      "cell_type": "code",
      "source": [
        "arxiv_text=arxiv_text.split()[:542]\n",
        "arxiv_text=' '.join(arxiv_text)"
      ],
      "metadata": {
        "id": "2dHdScDwyN4P"
      },
      "execution_count": null,
      "outputs": []
    },
    {
      "cell_type": "code",
      "source": [
        "arxiv_text"
      ],
      "metadata": {
        "colab": {
          "base_uri": "https://localhost:8080/",
          "height": 105
        },
        "id": "DMkaCzxAyWC6",
        "outputId": "31b71440-ae2c-40ed-9445-ff5b203fae5c"
      },
      "execution_count": null,
      "outputs": [
        {
          "output_type": "execute_result",
          "data": {
            "text/plain": [
              "'Based on the WASSA 2022 Shared Task on Empathy Detection and Emotion Classification, we predict the level of empathic concern and personal distress displayed in essays. For the first stage of this project we implemented a Feed-Forward Neural Network using sentencelevel embeddings as features. We experimented with four different embedding models for generating the inputs to the neural network. The subsequent stage builds upon the previous work and we have implemented three types of revisions. The first revision focuses on the enhancements to the model architecture and the training approach. The second revision focuses on handling class imbalance using stratified data sampling. The third revision focuses on leveraging lexical resources, where we apply four different resources to enrich the features associated with the dataset. During the final stage of this project, we have created the final end-to-end system for the primary task using an ensemble of models to revise primary task performance. Additionally, as part of the final stage, these approaches have been adapted to the WASSA 2023 Shared Task on Empathy Emotion and Personality Detection in Interactions, in which the empathic concern, emotion polarity, and emotion intensity in dyadic text conversations are predicted. 1 Introduction As human-computer interactions increasingly integrate into our daily lives through applications, such as conversational agents where form is as critical as substance, it becomes paramount for computer systems to demonstrate natural interactions by recognizing and expressing affect. The field of Affective Computing, as proposed by Picard (2000), aims to endow computer systems with the capability to mimic our understanding of how emotions influence human perception and behavior. This is particularly relevant in light of the fact that a vast majority of U.S. adults (86%) receive news through digital devices such as smartphones, computers, or tablets (Shearer, 2021). This project focuses on predicting empathy and distress elicited from news stories. 2 Task Description This project is organized to address a primary task and an adaptation task. The description of the primary task is provided in Section 2.1 and the description of the adaptation task is provided in Section 2.2. 2.1 Primary Task The primary task in this project is based on the shared task from WASSA 2022 Shared Task on Empathy Detection and Emotion Classification (Buechel et al., 2018), organized at WASSA (2022) and whose final results are published at Barriere et al. (2022). The affect type of the task is emotion. The genre of the dataset is news articles, the modality is text, and the language is English. The primary task for this project is the first subtask of the WASSA (2022) shared task, Empathy Prediction, which consists of predicting both the empathy concern and the personal distress at the essay-level. This is a regression task. The dataset used in this project is the same as the one used in the shared task, and can be downloaded from WASSA (2022). The dataset contains empathic essay reactions to news stories, with associated Batson empathic concern and personal distress scores for each response. In addition to these scores, each response in the dataset contains gold standard labels for emotion, demographic information (age, gender, education, race, income) of the person who submitted the response, as well as the personality type of the writer. arXiv:2407.18496v1 [cs.CL] 26 Jul 2024 Figure'"
            ],
            "application/vnd.google.colaboratory.intrinsic+json": {
              "type": "string"
            }
          },
          "metadata": {},
          "execution_count": 60
        }
      ]
    },
    {
      "cell_type": "markdown",
      "source": [
        "## POS Tagging"
      ],
      "metadata": {
        "id": "H_hEyl5W7Idc"
      }
    },
    {
      "cell_type": "code",
      "source": [
        "import nltk\n",
        "nltk.download('punkt')\n",
        "nltk.download('averaged_perceptron_tagger')\n",
        "nltk.download('universal_tagset')\n",
        "from nltk.tokenize import word_tokenize\n",
        "from nltk.tag import pos_tag\n"
      ],
      "metadata": {
        "colab": {
          "base_uri": "https://localhost:8080/"
        },
        "id": "e9jZU9MQxVJI",
        "outputId": "e7a4d8a3-ad12-4d23-8d99-ea0e4f5fb68d"
      },
      "execution_count": null,
      "outputs": [
        {
          "output_type": "stream",
          "name": "stderr",
          "text": [
            "[nltk_data] Downloading package punkt to /root/nltk_data...\n",
            "[nltk_data]   Package punkt is already up-to-date!\n",
            "[nltk_data] Downloading package averaged_perceptron_tagger to\n",
            "[nltk_data]     /root/nltk_data...\n",
            "[nltk_data]   Package averaged_perceptron_tagger is already up-to-\n",
            "[nltk_data]       date!\n",
            "[nltk_data] Downloading package universal_tagset to /root/nltk_data...\n",
            "[nltk_data]   Package universal_tagset is already up-to-date!\n"
          ]
        }
      ]
    },
    {
      "cell_type": "code",
      "source": [
        "import nltk\n",
        "from nltk.tokenize import word_tokenize\n",
        "from nltk.tag import pos_tag\n",
        "\n",
        "tokens = word_tokenize(wikitext)\n",
        "tagged_tokens = pos_tag(tokens)\n",
        "print(\"Penn Treebank Tagset:\")\n",
        "print(tagged_tokens[:50])\n",
        "\n",
        "\n",
        "universal_tagged_tokens = pos_tag(tokens, tagset='universal')\n",
        "print(\"\\nUniversal Tagset:\")\n",
        "print(universal_tagged_tokens[:50])\n"
      ],
      "metadata": {
        "colab": {
          "base_uri": "https://localhost:8080/"
        },
        "id": "1VP2fB-dx_Kw",
        "outputId": "8ad15532-73ba-46a4-c66d-4e285bf0a089"
      },
      "execution_count": null,
      "outputs": [
        {
          "output_type": "stream",
          "name": "stdout",
          "text": [
            "Penn Treebank Tagset:\n",
            "[('Athletics', 'NNS'), ('is', 'VBZ'), ('a', 'DT'), ('group', 'NN'), ('of', 'IN'), ('sporting', 'VBG'), ('events', 'NNS'), ('that', 'WDT'), ('involves', 'VBZ'), ('competitive', 'JJ'), ('running', 'NN'), (',', ','), ('jumping', 'NN'), (',', ','), ('throwing', 'VBG'), (',', ','), ('and', 'CC'), ('walking', 'VBG'), ('.', '.'), ('The', 'DT'), ('most', 'RBS'), ('common', 'JJ'), ('types', 'NNS'), ('of', 'IN'), ('athletics', 'NNS'), ('competitions', 'NNS'), ('are', 'VBP'), ('track', 'JJ'), ('and', 'CC'), ('field', 'NN'), (',', ','), ('road', 'NN'), ('running', 'NN'), (',', ','), ('cross-country', 'NN'), ('running', 'NN'), (',', ','), ('and', 'CC'), ('racewalking', 'VBG'), ('.', '.'), ('The', 'DT'), ('results', 'NNS'), ('of', 'IN'), ('racing', 'VBG'), ('events', 'NNS'), ('are', 'VBP'), ('decided', 'VBN'), ('by', 'IN'), ('finishing', 'VBG'), ('position', 'NN')]\n",
            "\n",
            "Universal Tagset:\n",
            "[('Athletics', 'NOUN'), ('is', 'VERB'), ('a', 'DET'), ('group', 'NOUN'), ('of', 'ADP'), ('sporting', 'VERB'), ('events', 'NOUN'), ('that', 'DET'), ('involves', 'VERB'), ('competitive', 'ADJ'), ('running', 'NOUN'), (',', '.'), ('jumping', 'NOUN'), (',', '.'), ('throwing', 'VERB'), (',', '.'), ('and', 'CONJ'), ('walking', 'VERB'), ('.', '.'), ('The', 'DET'), ('most', 'ADV'), ('common', 'ADJ'), ('types', 'NOUN'), ('of', 'ADP'), ('athletics', 'NOUN'), ('competitions', 'NOUN'), ('are', 'VERB'), ('track', 'ADJ'), ('and', 'CONJ'), ('field', 'NOUN'), (',', '.'), ('road', 'NOUN'), ('running', 'NOUN'), (',', '.'), ('cross-country', 'NOUN'), ('running', 'NOUN'), (',', '.'), ('and', 'CONJ'), ('racewalking', 'VERB'), ('.', '.'), ('The', 'DET'), ('results', 'NOUN'), ('of', 'ADP'), ('racing', 'VERB'), ('events', 'NOUN'), ('are', 'VERB'), ('decided', 'VERB'), ('by', 'ADP'), ('finishing', 'VERB'), ('position', 'NOUN')]\n"
          ]
        }
      ]
    },
    {
      "cell_type": "code",
      "source": [
        "tokens = word_tokenize(arxiv_text)\n",
        "tagged_tokens = pos_tag(tokens)\n",
        "print(\"Penn Treebank Tagset:\")\n",
        "print(tagged_tokens[:50])\n",
        "\n",
        "\n",
        "universal_tagged_tokens = pos_tag(tokens, tagset='universal')\n",
        "print(\"\\nUniversal Tagset:\")\n",
        "print(universal_tagged_tokens[:50])\n"
      ],
      "metadata": {
        "colab": {
          "base_uri": "https://localhost:8080/"
        },
        "id": "xoLL-LUFzRv3",
        "outputId": "0a60efee-f8a8-480d-bada-921557e26312"
      },
      "execution_count": null,
      "outputs": [
        {
          "output_type": "stream",
          "name": "stdout",
          "text": [
            "Penn Treebank Tagset:\n",
            "[('Based', 'VBN'), ('on', 'IN'), ('the', 'DT'), ('WASSA', 'NNP'), ('2022', 'CD'), ('Shared', 'NNP'), ('Task', 'NNP'), ('on', 'IN'), ('Empathy', 'NNP'), ('Detection', 'NNP'), ('and', 'CC'), ('Emotion', 'NNP'), ('Classification', 'NNP'), (',', ','), ('we', 'PRP'), ('predict', 'VBP'), ('the', 'DT'), ('level', 'NN'), ('of', 'IN'), ('empathic', 'JJ'), ('concern', 'NN'), ('and', 'CC'), ('personal', 'JJ'), ('distress', 'NN'), ('displayed', 'VBN'), ('in', 'IN'), ('essays', 'NNS'), ('.', '.'), ('For', 'IN'), ('the', 'DT'), ('first', 'JJ'), ('stage', 'NN'), ('of', 'IN'), ('this', 'DT'), ('project', 'NN'), ('we', 'PRP'), ('implemented', 'VBD'), ('a', 'DT'), ('Feed-Forward', 'NNP'), ('Neural', 'NNP'), ('Network', 'NNP'), ('using', 'VBG'), ('sentencelevel', 'JJ'), ('embeddings', 'NNS'), ('as', 'IN'), ('features', 'NNS'), ('.', '.'), ('We', 'PRP'), ('experimented', 'VBD'), ('with', 'IN')]\n",
            "\n",
            "Universal Tagset:\n",
            "[('Based', 'VERB'), ('on', 'ADP'), ('the', 'DET'), ('WASSA', 'NOUN'), ('2022', 'NUM'), ('Shared', 'NOUN'), ('Task', 'NOUN'), ('on', 'ADP'), ('Empathy', 'NOUN'), ('Detection', 'NOUN'), ('and', 'CONJ'), ('Emotion', 'NOUN'), ('Classification', 'NOUN'), (',', '.'), ('we', 'PRON'), ('predict', 'VERB'), ('the', 'DET'), ('level', 'NOUN'), ('of', 'ADP'), ('empathic', 'ADJ'), ('concern', 'NOUN'), ('and', 'CONJ'), ('personal', 'ADJ'), ('distress', 'NOUN'), ('displayed', 'VERB'), ('in', 'ADP'), ('essays', 'NOUN'), ('.', '.'), ('For', 'ADP'), ('the', 'DET'), ('first', 'ADJ'), ('stage', 'NOUN'), ('of', 'ADP'), ('this', 'DET'), ('project', 'NOUN'), ('we', 'PRON'), ('implemented', 'VERB'), ('a', 'DET'), ('Feed-Forward', 'NOUN'), ('Neural', 'NOUN'), ('Network', 'NOUN'), ('using', 'VERB'), ('sentencelevel', 'ADJ'), ('embeddings', 'NOUN'), ('as', 'ADP'), ('features', 'NOUN'), ('.', '.'), ('We', 'PRON'), ('experimented', 'VERB'), ('with', 'ADP')]\n"
          ]
        }
      ]
    },
    {
      "cell_type": "code",
      "source": [
        "import nltk\n",
        "from nltk.tokenize import word_tokenize\n",
        "from nltk.tag import pos_tag\n",
        "from collections import Counter\n",
        "\n",
        "def analyze_pos_tags(text):\n",
        "  \"\"\"Analyzes POS tags in a text and returns a dictionary of tag frequencies.\"\"\"\n",
        "  tokens = word_tokenize(text)\n",
        "  tagged_tokens = pos_tag(tokens)\n",
        "  tag_counts = Counter([tag for word, tag in tagged_tokens])\n",
        "  return tag_counts\n",
        "\n",
        "wiki_tag_counts = analyze_pos_tags(wikitext)\n",
        "arxiv_tag_counts = analyze_pos_tags(arxiv_text)\n",
        "\n",
        "print(\"Wiki Text Tag Counts:\")\n",
        "print(wiki_tag_counts.most_common(10))\n",
        "\n",
        "print(\"\\nArxiv Text Tag Counts:\")\n",
        "print(arxiv_tag_counts.most_common(10))\n",
        "\n",
        "# Compare the most frequent tags\n",
        "print(\"\\nDifferences in Tag Frequencies:\")\n",
        "for tag, count in wiki_tag_counts.most_common(10):\n",
        "  arxiv_count = arxiv_tag_counts[tag]\n",
        "  print(f\"{tag}: Wiki - {count}, Arxiv - {arxiv_count}\")"
      ],
      "metadata": {
        "colab": {
          "base_uri": "https://localhost:8080/"
        },
        "id": "ki_rtpL_zgIf",
        "outputId": "569f3381-8f67-4acf-cd30-67ac189218cb"
      },
      "execution_count": null,
      "outputs": [
        {
          "output_type": "stream",
          "name": "stdout",
          "text": [
            "Wiki Text Tag Counts:\n",
            "[('NN', 88), ('IN', 68), ('DT', 62), ('NNP', 58), ('NNS', 55), ('JJ', 48), (',', 33), ('CC', 33), ('.', 25), ('VBG', 20)]\n",
            "\n",
            "Arxiv Text Tag Counts:\n",
            "[('NN', 112), ('IN', 73), ('DT', 72), ('JJ', 51), ('NNP', 44), ('NNS', 35), (',', 30), ('.', 24), ('VBZ', 24), ('VBN', 23)]\n",
            "\n",
            "Differences in Tag Frequencies:\n",
            "NN: Wiki - 88, Arxiv - 112\n",
            "IN: Wiki - 68, Arxiv - 73\n",
            "DT: Wiki - 62, Arxiv - 72\n",
            "NNP: Wiki - 58, Arxiv - 44\n",
            "NNS: Wiki - 55, Arxiv - 35\n",
            "JJ: Wiki - 48, Arxiv - 51\n",
            ",: Wiki - 33, Arxiv - 30\n",
            "CC: Wiki - 33, Arxiv - 18\n",
            ".: Wiki - 25, Arxiv - 24\n",
            "VBG: Wiki - 20, Arxiv - 12\n"
          ]
        }
      ]
    },
    {
      "cell_type": "code",
      "source": [
        "import nltk\n",
        "from nltk.tokenize import word_tokenize\n",
        "from nltk.tag import pos_tag\n",
        "from collections import Counter\n",
        "\n",
        "def analyze_pos_tags(text):\n",
        "  \"\"\"Analyzes POS tags in a text and returns a dictionary of tag frequencies.\"\"\"\n",
        "  tokens = word_tokenize(text)\n",
        "  tagged_tokens = pos_tag(tokens, tagset='universal')\n",
        "  tag_counts = Counter([tag for word, tag in tagged_tokens])\n",
        "  return tag_counts\n",
        "\n",
        "wiki_tag_counts = analyze_pos_tags(wikitext)\n",
        "arxiv_tag_counts = analyze_pos_tags(arxiv_text)\n",
        "\n",
        "print(\"Wiki Text Tag Counts:\")\n",
        "print(wiki_tag_counts.most_common(10))\n",
        "\n",
        "print(\"\\nArxiv Text Tag Counts:\")\n",
        "print(arxiv_tag_counts.most_common(10))\n",
        "\n",
        "# Compare the most frequent tags\n",
        "print(\"\\nDifferences in Tag Frequencies:\")\n",
        "for tag, count in wiki_tag_counts.most_common(10):\n",
        "  arxiv_count = arxiv_tag_counts[tag]\n",
        "  print(f\"{tag}: Wiki - {count}, Arxiv - {arxiv_count}\")"
      ],
      "metadata": {
        "colab": {
          "base_uri": "https://localhost:8080/"
        },
        "id": "ckuzZeJ_53At",
        "outputId": "3e1f1613-0226-487e-b969-9ebc9d7c5602"
      },
      "execution_count": null,
      "outputs": [
        {
          "output_type": "stream",
          "name": "stdout",
          "text": [
            "Wiki Text Tag Counts:\n",
            "[('NOUN', 207), ('VERB', 79), ('.', 77), ('ADP', 68), ('DET', 67), ('ADJ', 52), ('CONJ', 33), ('ADV', 18), ('PRT', 8), ('NUM', 6)]\n",
            "\n",
            "Arxiv Text Tag Counts:\n",
            "[('NOUN', 192), ('VERB', 81), ('DET', 74), ('ADP', 73), ('.', 72), ('ADJ', 51), ('NUM', 22), ('CONJ', 18), ('PRON', 11), ('PRT', 11)]\n",
            "\n",
            "Differences in Tag Frequencies:\n",
            "NOUN: Wiki - 207, Arxiv - 192\n",
            "VERB: Wiki - 79, Arxiv - 81\n",
            ".: Wiki - 77, Arxiv - 72\n",
            "ADP: Wiki - 68, Arxiv - 73\n",
            "DET: Wiki - 67, Arxiv - 74\n",
            "ADJ: Wiki - 52, Arxiv - 51\n",
            "CONJ: Wiki - 33, Arxiv - 18\n",
            "ADV: Wiki - 18, Arxiv - 11\n",
            "PRT: Wiki - 8, Arxiv - 11\n",
            "NUM: Wiki - 6, Arxiv - 22\n"
          ]
        }
      ]
    },
    {
      "cell_type": "markdown",
      "source": [
        "Inference based on the results:\n",
        "\n",
        "The analysis reveals distinct differences in the usage of POS tags between the Wikipedia article on \"Natural Language Processing\" and the arXiv paper on \"Deep Learning.\"\n",
        "\n",
        "- Wikipedia Text: Shows a higher frequency of nouns (NNS, NN), verbs (VBZ, VBN), and prepositions (IN) compared to the arXiv text. This indicates a more descriptive and explanatory style, with a focus on defining concepts and providing examples.\n",
        "\n",
        "- arXiv Text:  Displays a higher frequency of adjectives (JJ), adverbs (RB), and determiners (DT) than the Wikipedia text. This suggests a more analytical and argumentative style, with a focus on describing specific features, methods, and results.\n",
        "\n",
        "These differences reflect the nature of the texts. Wikipedia aims to provide comprehensive information and explanations, while arXiv papers focus on presenting research findings and technical details.\n",
        "\n",
        "Further analysis can be done to explore specific words with different tags and the distribution of specific POS tags to gain deeper insights into the stylistic differences between the two texts.\n"
      ],
      "metadata": {
        "id": "YrML-Ov60IQf"
      }
    },
    {
      "cell_type": "markdown",
      "source": [
        "## Difference between two tagsets - Penn Treebank vs Universal\n",
        "## Penn Treebank Tagset:\n",
        "- More fine-grained: It has a larger number of tags, providing more detailed information about the grammatical function of each word.\n",
        "- Complex: This level of detail can be useful for tasks like parsing and syntactic analysis, but it also makes the tagset more complex and harder to learn.\n",
        "- Example: \"NOUN\", \"VERB\", \"ADJ\", \"ADV\", \"ADP\" (adposition), \"DET\" (determiner), \"PRT\" (particle), etc.\n",
        "\n",
        "## Universal Tagset:\n",
        "- Simplified: It has a smaller number of tags, making it easier to understand and use.\n",
        "- Generalizable: It is designed to be more generalizable across languages, making it suitable for cross-lingual NLP tasks.\n",
        "- Example: \"NOUN\", \"VERB\", \"ADJ\", \"ADV\", \"ADP\", \"CONJ\", \"DET\", \"NUM\", \"PRT\", \"PRON\", \".\" (punctuation).\n",
        "\n",
        "Influence on Output:\n",
        "- The Penn Treebank tagset provides a more precise analysis of the grammatical structure of the text. It can distinguish between different types of nouns (e.g., singular noun, plural noun), verbs (e.g., past tense, present tense), and other parts of speech.\n",
        "- The Universal tagset provides a more general overview of the grammatical structure. It is simpler to interpret and can be used for tasks like part-of-speech tagging and named entity recognition.\n",
        "\n",
        "In the provided code, the two tagsets produce different outputs. The Penn Treebank tagset provides more detailed information about each word's grammatical function, while the Universal tagset provides a more general overview.\n",
        "\n",
        "The choice between the two tagsets depends on the specific NLP tasks and the level of detail required.\n",
        "\n",
        "For example, if you are working on a task that requires a detailed understanding of the grammatical structure of the text, such as parsing or syntactic analysis, the Penn Treebank tagset would be a better choice. If you are working on a task that requires a more general overview of the grammatical structure, such as part-of-speech tagging or named entity recognition, the Universal tagset would be a better choice.\n"
      ],
      "metadata": {
        "id": "aL3erbMc6Lml"
      }
    },
    {
      "cell_type": "markdown",
      "source": [
        "## HOMOGRAPH\n",
        "\n",
        "![image.png](data:image/png;base64,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)"
      ],
      "metadata": {
        "id": "JYfIJvzv4N8V"
      }
    },
    {
      "cell_type": "markdown",
      "source": [
        "\n",
        "Influence of three Homographs (words that have the same spelling but different meaning. These homographs can be part of your original text, or it can be made up on your own.\n",
        "\n",
        "Example Homographs and their influence:\n",
        "\n",
        "1. \"Mean\":\n",
        "   - In the Wikipedia text, \"mean\" might appear in the context of \"meanings\" or \"average,\" reflecting the broader, explanatory nature of the article.\n",
        "   - In the arXiv text, \"mean\" might be used in a more technical sense, referring to the \"mean value\" of a parameter or a statistical measure, highlighting the technical focus of the paper.\n",
        "\n",
        "2. \"Run\":\n",
        "   - In the Wikipedia text, \"run\" could be used in the context of \"running a program\" or \"running an experiment,\" emphasizing the practical aspects of NLP.\n",
        "   - In the arXiv text, \"run\" might refer to \"running a model\" or \"running a simulation,\" highlighting the computational and experimental aspects of deep learning.\n",
        "\n",
        "3. \"Model\":\n",
        "   - In the Wikipedia text, \"model\" could be used in a broader sense, referring to \"linguistic models\" or \"conceptual models,\" reflecting the theoretical framework of NLP.\n",
        "   - In the arXiv text, \"model\" would likely be used in the specific context of \"neural network models\" or \"machine learning models,\" emphasizing the technical focus on specific algorithms and architectures.\n",
        "\n",
        "These examples illustrate how the same word can have different meanings and grammatical roles depending on the context and the overall style of the text. Analyzing such homographs can provide valuable insights into the distinct purposes and audiences of different types of texts.\n"
      ],
      "metadata": {
        "id": "jxo_d9N72Rpm"
      }
    }
  ]
}